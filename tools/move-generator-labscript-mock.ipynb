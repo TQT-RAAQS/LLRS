{
 "cells": [
  {
   "cell_type": "markdown",
   "metadata": {},
   "source": [
    "# Setup"
   ]
  },
  {
   "cell_type": "code",
   "execution_count": null,
   "metadata": {},
   "outputs": [],
   "source": [
    "import zmq\n",
    "from time import sleep\n",
    "from tqdm import tqdm\n",
    "\n",
    "host = \"emccd-workstation\"\n",
    "port = 5555\n",
    "\n",
    "context = zmq.Context()\n",
    "socket = context.socket(zmq.REQ)\n",
    "socket.connect(f\"tcp://{host}:{port}\")"
   ]
  },
  {
   "cell_type": "markdown",
   "metadata": {},
   "source": [
    "# Specify Experiment"
   ]
  },
  {
   "cell_type": "code",
   "execution_count": null,
   "metadata": {},
   "outputs": [],
   "source": [
    "hdf5_address = \"/home/tqtraaqs1/Z/Experiments/Rydberg/2024-05-30/15_26_21-test_movement/labscript_shot_outputs/test_movement_2024-05-30_0043_175.h5\"\n",
    "\n",
    "socket.send_string(hdf5_address)\n",
    "socket.recv()\n",
    "\n",
    "socket.send_string(\"Tell me when you're done\")\n",
    "socket.recv()"
   ]
  },
  {
   "cell_type": "markdown",
   "metadata": {},
   "source": [
    "# Experiment Done"
   ]
  },
  {
   "cell_type": "code",
   "execution_count": null,
   "metadata": {},
   "outputs": [],
   "source": [
    "socket.send_string(\"done\")\n",
    "socket.recv()\n",
    "\n",
    "socket.send_string(\"Tell me when you're done\")\n",
    "socket.recv()"
   ]
  },
  {
   "cell_type": "code",
   "execution_count": null,
   "metadata": {},
   "outputs": [],
   "source": [
    "for i in tqdm(range(100)):\n",
    "    hdf5_address = \"/home/tqtraaqs1/Z/Experiments/Rydberg/2024-05-30/15_26_21-test_movement/labscript_shot_outputs/test_movement_2024-05-30_0043_175.h5\"\n",
    "\n",
    "    socket.send_string(hdf5_address)\n",
    "    socket.recv()\n",
    "\n",
    "    socket.send_string(\"Tell me when you're done\")\n",
    "    socket.recv()\n",
    "    \n",
    "    sleep(1)\n",
    "\n",
    "    socket.send_string(\"done\")\n",
    "    socket.recv()\n",
    "\n",
    "    socket.send_string(\"Tell me when you're done\")\n",
    "    socket.recv()"
   ]
  }
 ],
 "metadata": {
  "kernelspec": {
   "display_name": "tqtraaqs-3.9",
   "language": "python",
   "name": "python3"
  },
  "language_info": {
   "codemirror_mode": {
    "name": "ipython",
    "version": 3
   },
   "file_extension": ".py",
   "mimetype": "text/x-python",
   "name": "python",
   "nbconvert_exporter": "python",
   "pygments_lexer": "ipython3",
   "version": "3.8.12"
  }
 },
 "nbformat": 4,
 "nbformat_minor": 2
}
