{
 "cells": [
  {
   "cell_type": "code",
   "execution_count": null,
   "metadata": {},
   "outputs": [],
   "source": [
    "from pathlib import Path\n",
    "import sys\n",
    "project_dir = Path().resolve().parents[1]\n",
    "sys.path.insert(0, str(project_dir))\n",
    "from modules.animation.atomic_lattice import AtomicLattice\n",
    "from modules.animation.atomic_lattice import Move, MoveType\n",
    "from modules.animation.animator import Animator\n",
    "import numpy as np"
   ]
  },
  {
   "cell_type": "code",
   "execution_count": null,
   "metadata": {},
   "outputs": [],
   "source": [
    "N_x, N_y = 50, 20 \n",
    "loading_efficiency = 0.5\n",
    "algorithm = 'REDREC-CPU-V3-2D'\n",
    "\n",
    "project_dir = Path().resolve().parents[0]"
   ]
  },
  {
   "cell_type": "markdown",
   "metadata": {},
   "source": [
    "## Creating a trap array "
   ]
  },
  {
   "cell_type": "code",
   "execution_count": null,
   "metadata": {},
   "outputs": [],
   "source": [
    "np.random.seed(1323523)\n",
    "\n",
    "atom_count = N_x * N_y * loading_efficiency \n",
    "lattice = AtomicLattice(N_x, N_y)\n",
    "\n",
    "remaining_indices = [(i, j) for i in range(N_x) for j in range(N_y)]\n",
    "occupied_indices = []\n",
    "while len(occupied_indices) < atom_count:\n",
    "    ind = np.random.randint(0, len(remaining_indices))\n",
    "    occupied_indices.append(remaining_indices[ind])\n",
    "    remaining_indices = remaining_indices[:ind] + remaining_indices[ind+1:]"
   ]
  },
  {
   "cell_type": "markdown",
   "metadata": {},
   "source": [
    "## Generate moves for moving the atoms in the array"
   ]
  },
  {
   "cell_type": "code",
   "execution_count": null,
   "metadata": {},
   "outputs": [],
   "source": [
    "lattice.empty_traps()\n",
    "lattice.populate_traps_by_list(occupied_indices)\n",
    "\n",
    "moves_list = lattice.gen_moves_list(algorithm, str(project_dir) + \"/bin/modules/llrs-lib/modules/solver/libllrs-lib-solver-so.so\")"
   ]
  },
  {
   "cell_type": "markdown",
   "metadata": {},
   "source": [
    "## Animation"
   ]
  },
  {
   "cell_type": "code",
   "execution_count": null,
   "metadata": {},
   "outputs": [],
   "source": [
    "animator = Animator(lattice)\n",
    "animator.animate(moves_list, str(project_dir) + \"/resources/animation\")"
   ]
  }
 ],
 "metadata": {
  "kernelspec": {
   "display_name": "tqtraaqs",
   "language": "python",
   "name": "python3"
  },
  "language_info": {
   "codemirror_mode": {
    "name": "ipython",
    "version": 3
   },
   "file_extension": ".py",
   "mimetype": "text/x-python",
   "name": "python",
   "nbconvert_exporter": "python",
   "pygments_lexer": "ipython3",
   "version": "3.8.5"
  }
 },
 "nbformat": 4,
 "nbformat_minor": 2
}
