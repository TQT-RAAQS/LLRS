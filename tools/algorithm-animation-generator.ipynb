{
 "cells": [
  {
   "cell_type": "code",
   "execution_count": null,
   "metadata": {},
   "outputs": [],
   "source": [
    "from modules.animation_generator.atomic_lattice import AtomicLattice\n",
    "from modules.animation_generator.atomic_lattice import Move, MoveType\n",
    "from modules.animation_generator.animator import Animator\n",
    "import numpy as np"
   ]
  },
  {
   "cell_type": "markdown",
   "metadata": {},
   "source": [
    "## Creating a 5x5 trap array with 15 atoms inside"
   ]
  },
  {
   "cell_type": "code",
   "execution_count": null,
   "metadata": {},
   "outputs": [],
   "source": [
    "np.random.seed(1323523)\n",
    "\n",
    "N_x, N_y = 5, 5\n",
    "atom_count = 15\n",
    "lattice = AtomicLattice(5, 5)\n",
    "\n",
    "remaining_indices = [(i, j) for i in range(5) for j in range(5)]\n",
    "occupied_indices = []\n",
    "while len(occupied_indices) < atom_count:\n",
    "    ind = np.random.randint(0, len(remaining_indices))\n",
    "    occupied_indices.append(remaining_indices[ind])\n",
    "    remaining_indices = remaining_indices[:ind] + remaining_indices[ind+1:]"
   ]
  },
  {
   "cell_type": "markdown",
   "metadata": {},
   "source": [
    "## Sample moves for moving the atoms in the array"
   ]
  },
  {
   "cell_type": "code",
   "execution_count": null,
   "metadata": {},
   "outputs": [],
   "source": [
    "moves_list = [Move(MoveType.EXTRACT, 1, 0, 2, 0),\n",
    "              Move(MoveType.DOWN, 1, 0, 2, 0),\n",
    "              Move(MoveType.DOWN, 1, 1, 2, 0),\n",
    "              Move(MoveType.EXTRACT, 1, 4, 1, 0),\n",
    "              Move(MoveType.UP, 1, 2, 3, 0),\n",
    "              Move(MoveType.UP, 1, 1, 3, 0),\n",
    "              Move(MoveType.IMPLANT, 1, 2, 1, 0),\n",
    "              Move(MoveType.RIGHT, 1, 0, 2, 0),\n",
    "              Move(MoveType.LEFT, 2, 0, 2, 0),\n",
    "              Move(MoveType.IMPLANT, 1, 0, 2, 0)\n",
    "              ]"
   ]
  },
  {
   "cell_type": "markdown",
   "metadata": {},
   "source": [
    "## Animation"
   ]
  },
  {
   "cell_type": "code",
   "execution_count": null,
   "metadata": {},
   "outputs": [],
   "source": [
    "lattice.empty_traps()\n",
    "lattice.populate_traps_by_list(occupied_indices)\n",
    "\n",
    "animator = Animator(lattice)\n",
    "animator.animate(moves_list, \"../resources/animation/animations.gif\")"
   ]
  }
 ],
 "metadata": {
  "kernelspec": {
   "display_name": "tqtraaqs",
   "language": "python",
   "name": "python3"
  },
  "language_info": {
   "codemirror_mode": {
    "name": "ipython",
    "version": 3
   },
   "file_extension": ".py",
   "mimetype": "text/x-python",
   "name": "python",
   "nbconvert_exporter": "python",
   "pygments_lexer": "ipython3",
   "version": "3.8.5"
  }
 },
 "nbformat": 4,
 "nbformat_minor": 2
}
