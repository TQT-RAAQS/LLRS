{
 "cells": [
  {
   "cell_type": "code",
   "execution_count": null,
   "metadata": {},
   "outputs": [],
   "source": [
    "import numpy as np\n",
    "import matplotlib.pyplot as plt\n",
    "import os\n",
    "\n",
    "from experiment.toolkits.plotting_helper import *\n",
    "from experiment.toolkits.configs import Addresses"
   ]
  },
  {
   "cell_type": "markdown",
   "metadata": {},
   "source": [
    "Spectrogram of the entire plot"
   ]
  },
  {
   "cell_type": "code",
   "execution_count": null,
   "metadata": {},
   "outputs": [],
   "source": [
    "sampling_rate = 624e6\n",
    "T = 100e-6\n",
    "output_address = f\"{Addresses.llrs_repository}/resources/wfm_csv/result.csv\"\n",
    "\n",
    "command = f\"{Addresses.llrs_repository}/bin/modules/waveform-loader/waveform-loader --index 0 --block 20 \" + \\\n",
    "    f\"--extent 21 --wft 12  --address_out {output_address}\"\n",
    "output = os.popen(command).read()\n",
    "\n",
    "with open(output_address, \"r\") as file:\n",
    "    line = file.readlines()[0]\n",
    "    nums = np.array([float(f) for f in line.split(\",\")])"
   ]
  },
  {
   "cell_type": "code",
   "execution_count": null,
   "metadata": {},
   "outputs": [],
   "source": [
    "xvals = np.sort(np.fft.fftfreq(len(nums), d=1/sampling_rate))\n",
    "yvals = np.abs(np.fft.fftshift(np.fft.fft(nums)))**2\n",
    "yvals /= yvals.max()\n",
    "\n",
    "fig, ax = getStylishFigureAxes(1, 1)\n",
    "\n",
    "PlotPlotter(\n",
    "    fig,\n",
    "    ax,\n",
    "    xvals/1e6, \n",
    "    yvals,\n",
    "    xlabel = \"MHz\",\n",
    "    ylabel = \"Power (a.u.)\",\n",
    "    style = {\"lw\": 0.5}\n",
    ").draw()\n",
    "\n",
    "ax.set_xlim([70, 130])\n",
    "\n",
    "plt.show()"
   ]
  },
  {
   "cell_type": "markdown",
   "metadata": {},
   "source": [
    "Spectogram"
   ]
  },
  {
   "cell_type": "code",
   "execution_count": null,
   "metadata": {},
   "outputs": [],
   "source": [
    "nums = np.array([float(n) for n in line.split(\",\")[:-1]])\n",
    "sections = 10\n",
    "size = len(nums) // sections\n",
    "\n",
    "xvals = np.sort(np.fft.fftfreq(len(nums)//sections, d=1/sampling_rate))\n",
    "yvals_section = np.full((len(xvals), sections), np.nan)\n",
    "for i in range(sections):\n",
    "    yvals_section[:, i] = np.abs(np.fft.fftshift(np.fft.fft(nums[i*size:i*size+size])))**2"
   ]
  },
  {
   "cell_type": "code",
   "execution_count": null,
   "metadata": {},
   "outputs": [],
   "source": [
    "fig, ax = getStylishFigureAxes(1, 1, dpi=1000)\n",
    "\n",
    "ImagePlotter(\n",
    "    fig,\n",
    "    ax,\n",
    "    yvals_section[yvals_section.shape[0]//2:, :],\n",
    "    False,\n",
    "    style = {\n",
    "        \"extent\": [0, T*1e6, 0, xvals[-1]/1e6],\n",
    "        \"vmin\": 0,\n",
    "        \"vmax\": 5*1e13\n",
    "    },\n",
    "    xlabel = \"Time ($\\mu s$)\",\n",
    "    ylabel = \"MHz\"\n",
    ").draw()\n",
    "ax.set_ylim([83, 113])\n",
    "ax.set_aspect('auto')\n",
    "\n",
    "plt.show()"
   ]
  }
 ],
 "metadata": {
  "kernelspec": {
   "display_name": "tqtraaqs",
   "language": "python",
   "name": "python3"
  },
  "language_info": {
   "codemirror_mode": {
    "name": "ipython",
    "version": 3
   },
   "file_extension": ".py",
   "mimetype": "text/x-python",
   "name": "python",
   "nbconvert_exporter": "python",
   "pygments_lexer": "ipython3",
   "version": "3.8.12"
  }
 },
 "nbformat": 4,
 "nbformat_minor": 2
}
