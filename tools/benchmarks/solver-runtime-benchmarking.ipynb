{
 "cells": [
  {
   "cell_type": "code",
   "execution_count": null,
   "metadata": {},
   "outputs": [],
   "source": [
    "import os\n",
    "from datetime import date, datetime\n",
    "import yaml\n",
    "import sys\n",
    "from pathlib import Path\n",
    "import numpy as np\n",
    "import matplotlib.pyplot as plt\n",
    "from experiment.toolkits.plotting_helper import *\n",
    "\n",
    "project_dir = Path().resolve().parents[1]\n",
    "sys.path.insert(0, str(project_dir))\n",
    "import pickle\n",
    "import datetime\n",
    "import matplotlib.ticker as ticker\n",
    "\n",
    "import experiment.toolkits.figure_formatting.formatter_2023_az as fmt\n",
    "import experiment.toolkits.figure_formatting.production_quality_plots as prod_plot"
   ]
  },
  {
   "cell_type": "code",
   "execution_count": null,
   "metadata": {},
   "outputs": [],
   "source": [
    "home = os.path.expanduser(\"~\") \n",
    "os.chdir(str(project_dir))"
   ]
  },
  {
   "cell_type": "code",
   "execution_count": null,
   "metadata": {},
   "outputs": [],
   "source": [
    "base_cmd = str(project_dir) + \"/bin/modules/operational-benchmarking/op-bench-runtime\"\n",
    "def get_write_time (algorithm, Ntx, Nty, target, nt, nr):\n",
    "    command = base_cmd + \" \" + algorithm + \" \" + str(Ntx) + \" \" + str(Nty) + \" \" + str(target) + \" \" + str(nt) + \" \" + str(nr)\n",
    "    return os.popen(command).read()"
   ]
  },
  {
   "cell_type": "code",
   "execution_count": null,
   "metadata": {},
   "outputs": [],
   "source": [
    "trials = 1\n",
    "reps = 10\n",
    "Ntx = 32\n",
    "Nty = [x for x in range(50, 92, 2)]\n",
    "target = 1024\n",
    "algorithms = [\"BIRD-CPU-2D\", \"REDREC-CPU-V3-2D\", \"REDREC-GPU-V3-2D\"]\n",
    "\n",
    "for algorithm in algorithms:\n",
    "    time_data  = []\n",
    "    for i in range(len(Nty)):\n",
    "        print(f\"{i}/{len(Nty)}\")\n",
    "        write_time_list = []\n",
    "        y = Nty[i]\n",
    "        write_time_str = get_write_time(algorithm, Ntx, y, target, trials, reps)\n",
    "        print(write_time_str)\n",
    "        time_data += [(float(write_time_str.split(',')[0]), float(write_time_str.split(',')[1]))]\n",
    "    # Saving the results \n",
    "    file_name = \"timing-\" + algorithm + \"-target\" + str(Ntx) + \"x\" + str(Ntx) + \"-\" + datetime.datetime.now().strftime(\"%Y-%m-%d, %H-%M-%S.pickle\")\n",
    "    with open(os.path.join(home, \"LLRS\", \"resources\", \"solver-runtime\", file_name), \"wb\") as file:\n",
    "        pickle.dump(\n",
    "            {\n",
    "                \"xvals\": Nty,\n",
    "                \"algorithm\": algorithm,\n",
    "                \"experiment\": file_name,\n",
    "                \"data\": time_data\n",
    "            }, file\n",
    "        )\n",
    "    "
   ]
  },
  {
   "cell_type": "markdown",
   "metadata": {},
   "source": [
    "# Load results"
   ]
  },
  {
   "cell_type": "code",
   "execution_count": null,
   "metadata": {},
   "outputs": [],
   "source": [
    "load_latest = False \n",
    "if not load_latest:\n",
    "    file_name = \"timing-REDREC-CPU-V3-2D-target32x32-2024-07-08, 09-23-32.pickle\"\n",
    "\n",
    "with open(os.path.join(home, \"LLRS\", \"resources\", \"solver-runtime\", file_name), \"rb\") as file:\n",
    "    data = pickle.load(file)\n",
    "    Nty = data[\"xvals\"]\n",
    "    time_data = data[\"data\"]\n",
    "    title = data[\"experiment\"]"
   ]
  },
  {
   "cell_type": "code",
   "execution_count": null,
   "metadata": {},
   "outputs": [],
   "source": [
    "xvals = waveforms_per_segment\n",
    "yvals = [(time_data[i] * 1e6) for i in range(0, len(time_data), 2)]\n",
    "yerr = [(time_data[i] * 1e6) for i in range(1, len(time_data), 2)]\n",
    "runtimevals = [(xvals[i]*10) for i in range(0, len(xvals))]\n",
    "runtimevals_err = [0 for i in range(0, len(xvals))]\n",
    "fig, ax = plt.subplots() \n",
    "ax.set_xlabel(\"Number of waveforms per segment\")\n",
    "ax.set_ylabel(\"Time (us)\")\n",
    "\n",
    "\n",
    "prod_plot.production_quality_scatter(fig, ax, [xvals, xvals], [yvals, runtimevals], yerr_list=[yerr, runtimevals_err], save_path=str(project_dir) + \"/wfm-loading.pdf\")\n",
    "ax.legend([\"Upload\", \"Stream\"],fontsize=4)\n",
    "ax.set_xlim(-2, 70)\n",
    "ax.set_ylim(-100, 1000)\n",
    "ax.set_yticks([0, 250, 500,750, 1000])\n",
    "plt.gca().yaxis.set_major_formatter(ticker.FormatStrFormatter('%d'))\n",
    "ax.set_xticks([0, 4,8,16,32,64])\n",
    "plt.savefig(\"wfm-loading.pdf\", format='pdf', bbox_inches='tight')\n",
    "plt.show()"
   ]
  }
 ],
 "metadata": {
  "kernelspec": {
   "display_name": "tqtraaqs",
   "language": "python",
   "name": "python3"
  },
  "language_info": {
   "codemirror_mode": {
    "name": "ipython",
    "version": 3
   },
   "file_extension": ".py",
   "mimetype": "text/x-python",
   "name": "python",
   "nbconvert_exporter": "python",
   "pygments_lexer": "ipython3",
   "version": "3.9.13"
  },
  "orig_nbformat": 4
 },
 "nbformat": 4,
 "nbformat_minor": 2
}
