{
 "cells": [
  {
   "cell_type": "code",
   "execution_count": 2,
   "metadata": {},
   "outputs": [],
   "source": [
    "import os\n",
    "import time\n",
    "import yaml\n",
    "import pickle\n",
    "import numpy as np\n",
    "import subprocess\n",
    "import matplotlib.pyplot as plt\n",
    "from matplotlib.gridspec import GridSpec\n",
    "import sys\n",
    "from pathlib import Path\n",
    "import json\n",
    "import datetime\n",
    "import matplotlib.pyplot as plt\n",
    "from matplotlib.gridspec import GridSpec\n",
    "import matplotlib.ticker as ticker\n",
    "import multiprocessing\n",
    "project_dir = Path().resolve().parents[1]\n",
    "sys.path.insert(0, project_dir)\n",
    "home = os.path.expanduser(\"~\") \n",
    "os.chdir(str(project_dir))\n",
    "import matplotlib.ticker as ticker\n",
    "from scipy.stats import linregress\n",
    "import experiment.toolkits.figure_formatting.formatter_2023_az as fmt\n",
    "import experiment.toolkits.figure_formatting.production_quality_plots as prod_plot\n",
    "from tools.benchmarks.helpers import *\n",
    "import math\n",
    "from matplotlib.ticker import FormatStrFormatter"
   ]
  },
  {
   "cell_type": "code",
   "execution_count": 3,
   "metadata": {},
   "outputs": [],
   "source": [
    "executable_path = str(project_dir) + \"/bin/modules/operational-benchmarking/op-bench-loss\"\n",
    "def get_loss_prob (algorithm, ntx, nty, num_target, loading_efficiency = 0.6, alpha = 0.985, nu = 0.985, lifetime = 60, num_trials = 1, num_reps = 1000, batched = 1, relative = 1):\n",
    "    command =  f\"{executable_path} {algorithm} {ntx} {nty} {num_target} {loading_efficiency} {alpha} {nu} {lifetime} {num_trials} {num_reps} {batched} {relative}\"\n",
    "    return os.popen(command).read()"
   ]
  },
  {
   "cell_type": "markdown",
   "metadata": {},
   "source": [
    "# Load Data"
   ]
  },
  {
   "cell_type": "code",
   "execution_count": 3,
   "metadata": {},
   "outputs": [],
   "source": [
    "file_name_batched = \"july_18_rel_batched_1721355825.8340032.pkl\"\n",
    "file_name_non_batched = \"july_18_rel_non_batched_1721355825.8340526.pkl\"\n",
    "\n",
    "with open(os.path.join(home, \"LLRS\", \"resources\", \"operational-benchmarking\", file_name_batched), \"rb\") as file:\n",
    "    data_batched = pickle.load(file)\n",
    "\n",
    "\n",
    "with open(os.path.join(home, \"LLRS\", \"resources\", \"operational-benchmarking\", file_name_non_batched), \"rb\") as file:\n",
    "    data_non_batched = pickle.load(file)"
   ]
  },
  {
   "cell_type": "code",
   "execution_count": 4,
   "metadata": {},
   "outputs": [
    {
     "name": "stdout",
     "output_type": "stream",
     "text": [
      "Production quality plot saved to /home/tqtraaqs1/LLRS/atom-loss.pdf\n"
     ]
    },
    {
     "data": {
      "image/png": "[encoded data removed]",
      "text/plain": [
       "<Figure size 169.291x110.236 with 1 Axes>"
      ]
     },
     "metadata": {},
     "output_type": "display_data"
    }
   ],
   "source": [
    "fig, ax = plt.subplots() \n",
    "ax.set_ylabel(\"Atom loss (%)\")\n",
    "ax.set_xlabel(\"Atom lifetime (s)\")\n",
    "xvals = [math.log(x,10) for x in [1,3,6,9,12,30,60,90,120,300,600, 900, 1200]]\n",
    "\n",
    "prod_plot.production_quality_scatter(fig, ax, [xvals, xvals], [[x[0]*100 for x in data_batched], [x[0]*100 for x in data_non_batched]],y_decimal=2 ,yerr_list=[[x[1]*100 for x in data_batched], [x[1]*100 for x in data_non_batched]], markers=mark([\"rrcbatch\", \"rrccpu\"]),palette=pal([\"rrcbatch\", \"rrccpu\"]), save_path=str(project_dir) + \"/atom-loss.pdf\")\n",
    "\n",
    "\n",
    "\n",
    "ax.legend([\"Post-batching\", \"Pre-batching\"] ,fontsize=4)\n",
    "def xticks(ax, lst):\n",
    "    ax.set_xticks(lst, [10**x for x in lst], fontsize=7)\n",
    "    diff = (lst[-1] - lst[0]) * 0.05\n",
    "    ax.set_xlim(lst[0] - diff, lst[-1] + diff)\n",
    "\n",
    "yticks(ax,[10, 12.5, 15, 17.5,  20])\n",
    "xticks(ax,[0,1,2,3])\n",
    "ax.yaxis.set_major_formatter(FormatStrFormatter('%.1f'))\n",
    "plt.savefig(\"atom-loss.pdf\", format='pdf')\n",
    "plt.show()\n"
   ]
  },
  {
   "cell_type": "code",
   "execution_count": 9,
   "metadata": {},
   "outputs": [],
   "source": [
    "file_name_batched = \"july_18_abs_batched_1721355825.8337681.pkl\"\n",
    "file_name_non_batched = \"july_18_abs_non_batched_1721355825.833941.pkl\"\n",
    "\n",
    "with open(os.path.join(home, \"LLRS\", \"resources\", \"operational-benchmarking\", file_name_batched), \"rb\") as file:\n",
    "    data_batched = pickle.load(file)\n",
    "\n",
    "\n",
    "with open(os.path.join(home, \"LLRS\", \"resources\", \"operational-benchmarking\", file_name_non_batched), \"rb\") as file:\n",
    "    data_non_batched = pickle.load(file)"
   ]
  },
  {
   "cell_type": "code",
   "execution_count": 11,
   "metadata": {},
   "outputs": [
    {
     "name": "stdout",
     "output_type": "stream",
     "text": [
      "Production quality plot saved to /home/tqtraaqs1/LLRS/atom-loss-1200-abs.pdf\n"
     ]
    },
    {
     "data": {
      "image/png": "[encoded data removed]",
      "text/plain": [
       "<Figure size 169.291x110.236 with 1 Axes>"
      ]
     },
     "metadata": {},
     "output_type": "display_data"
    }
   ],
   "source": [
    "fig, ax = plt.subplots() \n",
    "ax.set_ylabel(\"Atom loss\")\n",
    "ax.set_xlabel(\"Atom lifetime (s)\")\n",
    "xvals = [math.log(x,10) for x in [1,3,6,9,12,30,60,90,120,300,600, 900, 1200]]\n",
    "\n",
    "prod_plot.production_quality_scatter(fig, ax, [xvals, xvals], [[x[0] for x in data_batched], [x[0] for x in data_non_batched]],y_decimal=2 ,yerr_list=[[x[1] for x in data_batched], [x[1] for x in data_non_batched]],markers=mark([\"rrcbatch\", \"rrccpu\"]),palette=pal([\"rrcbatch\", \"rrccpu\"]),  save_path=str(project_dir) + \"/atom-loss-1200-abs.pdf\")\n",
    "ax.legend([\"Post-batching\", \"Pre-batching\"] ,fontsize=4)\n",
    "yticks(ax,[100, 125, 150,175, 200])\n",
    "xticks(ax,[0,1,2,3])\n",
    "plt.gca().yaxis.set_major_formatter(ticker.FormatStrFormatter('%d'))\n",
    "plt.savefig(\"atom-loss-abs.pdf\", format='pdf')\n",
    "plt.show()\n",
    "\n"
   ]
  }
 ],
 "metadata": {
  "kernelspec": {
   "display_name": "Python 3",
   "language": "python",
   "name": "python3"
  },
  "language_info": {
   "codemirror_mode": {
    "name": "ipython",
    "version": 3
   },
   "file_extension": ".py",
   "mimetype": "text/x-python",
   "name": "python",
   "nbconvert_exporter": "python",
   "pygments_lexer": "ipython3",
   "version": "3.9.13"
  }
 },
 "nbformat": 4,
 "nbformat_minor": 2
}
