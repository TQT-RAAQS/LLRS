{
 "cells": [
  {
   "cell_type": "code",
   "execution_count": null,
   "metadata": {},
   "outputs": [],
   "source": [
    "import os\n",
    "import csv\n",
    "from datetime import date, datetime\n",
    "import yaml\n",
    "import sys\n",
    "from pathlib import Path\n",
    "import numpy as np\n",
    "import matplotlib.pyplot as plt\n",
    "from experiment.toolkits.plotting_helper import *\n",
    "\n",
    "project_dir = Path().resolve().parents[1]\n",
    "sys.path.insert(0, str(project_dir))\n",
    "from time import sleep\n",
    "import pickle\n",
    "import datetime\n",
    "from scipy.stats import linregress"
   ]
  },
  {
   "cell_type": "code",
   "execution_count": null,
   "metadata": {},
   "outputs": [],
   "source": [
    "os.chdir(str(project_dir))"
   ]
  },
  {
   "cell_type": "code",
   "execution_count": null,
   "metadata": {},
   "outputs": [],
   "source": [
    "base_cmd = \"./bin/modules/wfm-streaming-benchmarking/null-test\"\n",
    "def get_null_prob (wfms_per_segment, num_moves, num_reps):\n",
    "    command = base_cmd + \" \" + wfms_per_segment + \" \" + num_moves + \" \" + num_reps \n",
    "    return os.popen(command).read()"
   ]
  },
  {
   "cell_type": "code",
   "execution_count": null,
   "metadata": {},
   "outputs": [],
   "source": [
    "reps = 1000\n",
    "num_moves = 16\n",
    "wfms_per_segment = list(range(16, 1025, 32))\n",
    "\n",
    "data = []\n",
    "for i in range(len(num_moves)):\n",
    "    print(f\"{i}/{len(num_moves)}\")\n",
    "\n",
    "    null_prob_str = get_null_prob(wfms_per_segment,\n",
    "                                i, \n",
    "                                reps)\n",
    "    \n",
    "    data += [[i, float(null_prob_str)]]\n"
   ]
  },
  {
   "cell_type": "markdown",
   "metadata": {},
   "source": [
    "# Save results"
   ]
  },
  {
   "cell_type": "code",
   "execution_count": null,
   "metadata": {},
   "outputs": [],
   "source": [
    "# Saving the results \n",
    "file_name = datetime.datetime.now().strftime(\"%Y-%m-%d, %H-%M-%S.pickle\")\n",
    "with open(os.path.join(str(project_dir), \"resources\", \"wfm-streaming-benchmarking\", file_name), \"wb\") as file:\n",
    "    pickle.dump(\n",
    "        {\n",
    "            \"xvals\": num_moves,\n",
    "            \"experiment\": file_name,\n",
    "            \"wfms_per_segment\": wfms_per_segment,\n",
    "            \"data\": data \n",
    "        }, file\n",
    "        )"
   ]
  },
  {
   "cell_type": "markdown",
   "metadata": {},
   "source": [
    "# Load results"
   ]
  },
  {
   "cell_type": "code",
   "execution_count": null,
   "metadata": {},
   "outputs": [],
   "source": [
    "load_latest = True\n",
    "if not load_latest:\n",
    "    file_name = \"2024-04-22, 19-04-01.pickle\"\n",
    "\n",
    "with open(os.path.join(str(project_dir), \"resources\", \"wfm-streaming-benchmarking\", file_name), \"rb\") as file:\n",
    "    data = pickle.load(file)\n",
    "    num_moves = np.array(data[\"xvals\"])\n",
    "    wfms_per_segment = data[\"wfms_per_segment\"]\n",
    "    prob_data = data[\"data\"]\n",
    "    title = data[\"experiment\"]"
   ]
  },
  {
   "cell_type": "code",
   "execution_count": null,
   "metadata": {},
   "outputs": [],
   "source": [
    "acq_time_mean = time_data.mean(axis = 1)\n",
    "acq_time_std = time_data.std(axis = 1)\n",
    "\n",
    "fig, ax = getStylishFigureAxes(1, 2, dpi=300)\n",
    "\n",
    "ErrorbarPlotter(\n",
    "    fig,\n",
    "    ax[0],\n",
    "    roi_heights,\n",
    "    acq_time_mean / 1e6,\n",
    "    yerr = acq_time_std / 1e6,\n",
    "    style = {\"marker\": \"*\", \"linestyle\": \"None\", \"markersize\": 1},\n",
    "    xlim = [-50, 1074],\n",
    "    ylim = [-5, 85],\n",
    "    xticks = [0, 256, 512, 768, 1024],\n",
    "    yticks = [0, 20, 40, 60, 80],\n",
    "    xlabel = \"ROI height (pixels)\",\n",
    "    ylabel = \"Acquisition time (ms)\"\n",
    ").draw()\n",
    "\n",
    "xvals = np.linspace(16, 1024, 100)\n",
    "yvals = np.array([theoretical_acquistion_time_oct3(W = 1024, H = x) for x in xvals])\n",
    "PlotPlotter(\n",
    "    fig,\n",
    "    ax[0],\n",
    "    xvals,\n",
    "    yvals * 1e3,\n",
    "    style = {\"linestyle\": \"-\", \"lw\": 1, \"label\": \"Theoretical value\"},\n",
    ").draw()\n",
    "\n",
    "ax[0].axhline(20, linestyle = \"--\", linewidth = 1, color = \"black\", label = \"Exposure time\")\n",
    "ax[0].legend(fontsize=6)\n",
    "\n",
    "yvals = np.array([theoretical_acquistion_time_oct3(W = 1024, H = x) for x in roi_heights])\n",
    "ErrorbarPlotter(\n",
    "    fig,\n",
    "    ax[1],\n",
    "    roi_heights,\n",
    "    acq_time_mean / 1e6 - yvals * 1e3,\n",
    "    yerr = acq_time_std / 1e6,\n",
    "    ylim = [-0.5, 10.5],\n",
    "    yticks = [0, 2, 4, 6, 8, 10],\n",
    "    xlim = [-50, 1074],\n",
    "    xticks = [0, 256, 512, 768, 1024],\n",
    "    style = {\"linestyle\": \"-\", \"marker\": \"s\", \"markersize\": 1},\n",
    "    xlabel = \"ROI height (pixels)\",\n",
    "    ylabel = \"$\\Delta$t (ms)\",\n",
    ").draw()\n",
    "\n",
    "plt.suptitle(f\"{title.split('.')[0]}\\nTime Acquisition Characterization\", fontsize=7)\n",
    "plt.tight_layout()\n",
    "plt.savefig(\"result.jpg\")\n",
    "plt.show()"
   ]
  },
  {
   "cell_type": "code",
   "execution_count": null,
   "metadata": {},
   "outputs": [],
   "source": [
    "acq_time_mean = time_data.mean(axis = 1)\n",
    "acq_time_std = time_data.std(axis = 1)\n",
    "\n",
    "fig, ax = getStylishFigureAxes(1, 1, dpi=300)\n",
    "\n",
    "yvals = np.array([theoretical_acquistion_time_oct3(W = 1024, H = x) for x in roi_heights])\n",
    "ErrorbarPlotter(\n",
    "    fig,\n",
    "    ax,\n",
    "    roi_heights,\n",
    "    (acq_time_mean / 1e6 - yvals * 1e3) / (yvals * 1e3),\n",
    "    yerr = acq_time_std / 1e6 / (yvals * 1e3),\n",
    "    ylim = [-0.02, 0.12],\n",
    "    yticks = [0, 0.05, 0.1],\n",
    "    xlim = [-50, 1074],\n",
    "    xticks = [0, 256, 512, 768, 1024],\n",
    "    style = {\"linestyle\": \"-\", \"marker\": \"s\", \"markersize\": 1},\n",
    "    xlabel = \"ROI height (pixels)\",\n",
    "    ylabel = \"$\\Delta$t / t${}_{theoretical}$\",\n",
    ").draw()\n",
    "\n",
    "ax.set_title(f\"{title.split('.')[0]}\\nTime Acquisition Characterization\", fontsize=7)\n",
    "plt.tight_layout()\n",
    "plt.savefig(\"result.jpg\")\n",
    "plt.show()"
   ]
  },
  {
   "cell_type": "code",
   "execution_count": null,
   "metadata": {},
   "outputs": [],
   "source": [
    "acq_time_mean = time_data.mean(axis = 1) / 1e6\n",
    "thr_acquisition_time = np.array([theoretical_acquistion_time_oct3(H=h, flag_dma=False)*1000 for h in roi_heights])\n",
    "acq_time_std = time_data.std(axis = 1)\n",
    "\n",
    "xvals = roi_heights / 1024 * 2\n",
    "yvals = acq_time_mean - thr_acquisition_time\n",
    "result = linregress(xvals, yvals)\n",
    "\n",
    "fig, ax = getStylishFigureAxes(1, 1, axes_list=True, dpi=300)\n",
    "ErrorbarPlotter(\n",
    "    fig,\n",
    "    ax[0],\n",
    "    xvals,\n",
    "    yvals,\n",
    "    yerr = acq_time_std / 1e6,\n",
    "    style = {\"marker\": \"*\", \"linestyle\": \"None\", \"markersize\": 1},\n",
    "    xlim = [-0.1, 2.1],\n",
    "    xticks = [0, 1, 2],\n",
    "    xlabel = \"Image size (MB)\",\n",
    "    ylabel = \"$t_{transfer}$ (ms)\",\n",
    "    ylim = [-0.5, 10.5],\n",
    "    yticks = [0, 5, 10],\n",
    "    title = title.split(\".\")[0]\n",
    ").draw()\n",
    "\n",
    "PlotPlotter(\n",
    "    fig,\n",
    "    ax[0],\n",
    "    xvals,\n",
    "    xvals * result.slope + result.intercept,\n",
    "    style = {\"linestyle\" : \"--\", \"color\": \"blue\", \"lw\": 1,\n",
    "             \"label\": \"$f_{PCIe}$ = \" + f\"{str(round(1 / result.slope, 2))} GB/s\"}\n",
    ").draw()\n",
    "\n",
    "ax[0].legend(fontsize=6)\n",
    "plt.savefig(\"result.jpg\")\n",
    "plt.show()"
   ]
  }
 ],
 "metadata": {
  "kernelspec": {
   "display_name": "tqtraaqs",
   "language": "python",
   "name": "python3"
  },
  "language_info": {
   "codemirror_mode": {
    "name": "ipython",
    "version": 3
   },
   "file_extension": ".py",
   "mimetype": "text/x-python",
   "name": "python",
   "nbconvert_exporter": "python",
   "pygments_lexer": "ipython3",
   "version": "3.8.12"
  },
  "orig_nbformat": 4
 },
 "nbformat": 4,
 "nbformat_minor": 2
}
