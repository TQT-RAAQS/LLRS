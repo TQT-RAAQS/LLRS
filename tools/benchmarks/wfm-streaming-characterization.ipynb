{
 "cells": [
  {
   "cell_type": "code",
   "execution_count": null,
   "metadata": {},
   "outputs": [],
   "source": [
    "import os\n",
    "from datetime import date, datetime\n",
    "import yaml\n",
    "import sys\n",
    "from pathlib import Path\n",
    "import numpy as np\n",
    "import matplotlib.pyplot as plt\n",
    "from experiment.toolkits.plotting_helper import *\n",
    "\n",
    "project_dir = Path().resolve().parents[0]\n",
    "sys.path.insert(0, str(project_dir))\n",
    "import pickle\n",
    "import datetime"
   ]
  },
  {
   "cell_type": "code",
   "execution_count": null,
   "metadata": {},
   "outputs": [],
   "source": [
    "home = os.path.expanduser(\"~\") \n",
    "os.chdir(str(project_dir))"
   ]
  },
  {
   "cell_type": "markdown",
   "metadata": {},
   "source": [
    "# Waveform Loading Timing Benchmark"
   ]
  },
  {
   "cell_type": "code",
   "execution_count": null,
   "metadata": {},
   "outputs": [],
   "source": [
    "base_cmd = \"./bin/modules/wfm-streaming/timing-test\"\n",
    "def get_write_time (wfps, cb, nr):\n",
    "    if (cb):\n",
    "        command = base_cmd + \" -wfps \" + str(wfps) + \" -cb\" + \" -nr\" + str(nr)\n",
    "    else:\n",
    "        command = base_cmd + \" -wfps \" + str(wfps) + \" -nr\" + str(nr)\n",
    "    return os.popen(command).read()"
   ]
  },
  {
   "cell_type": "code",
   "execution_count": null,
   "metadata": {},
   "outputs": [],
   "source": [
    "reps = 1000\n",
    "waveforms_per_segment = [1,2,4,8,16,32,64,128] \n",
    "continous_buffer = False\n",
    "time_data  = []\n",
    "\n",
    "for i in range(len(waveforms_per_segment)):\n",
    "    print(f\"{i}/{len(waveforms_per_segment)}\")\n",
    "    write_time_list = []\n",
    "    wfps = waveforms_per_segment[i]\n",
    "    write_time_str = get_write_time(wfps,\n",
    "                                    continous_buffer, reps)\n",
    "    time_data += tuple(float(write_time_str.split(\"\\n\")[0]), float(write_time_list.split(\"\\n\")[1]))"
   ]
  },
  {
   "cell_type": "markdown",
   "metadata": {},
   "source": [
    "# Save results"
   ]
  },
  {
   "cell_type": "code",
   "execution_count": null,
   "metadata": {},
   "outputs": [],
   "source": [
    "# Saving the results \n",
    "file_name = datetime.datetime.now().strftime(\"%Y-%m-%d, %H-%M-%S.pickle\")\n",
    "with open(os.path.join(home, \"LLRS\", \"resources\", \"wfm-streaming-characterization\", file_name), \"wb\") as file:\n",
    "    pickle.dump(\n",
    "        {\n",
    "            \"xvals\": waveforms_per_segment,\n",
    "            \"experiment\": file_name,\n",
    "            \"data\": time_data\n",
    "        }, file\n",
    "        )"
   ]
  },
  {
   "cell_type": "markdown",
   "metadata": {},
   "source": [
    "# Load results"
   ]
  },
  {
   "cell_type": "code",
   "execution_count": null,
   "metadata": {},
   "outputs": [],
   "source": [
    "load_latest = True\n",
    "if not load_latest:\n",
    "    file_name = \"2024-04-22, 22-49-39.pickle\"\n",
    "\n",
    "with open(os.path.join(home, \"LLRS\", \"resources\", \"wfm-streaming-characterization\", file_name), \"rb\") as file:\n",
    "    data = pickle.load(file)\n",
    "    roi_heights = np.array(data[\"xvals\"])\n",
    "    time_data = data[\"data\"]\n",
    "    title = data[\"experiment\"]"
   ]
  },
  {
   "cell_type": "code",
   "execution_count": null,
   "metadata": {},
   "outputs": [],
   "source": [
    "write_time_mean = time_data.mean(axis = 1) * 1000000000\n",
    "write_time_std = time_data.std(axis = 1) \n",
    "\n",
    "fig, ax = getStylishFigureAxes(1, 1, dpi=300)\n",
    "\n",
    "ErrorbarPlotter(\n",
    "    fig,\n",
    "    ax,\n",
    "    roi_heights,\n",
    "    write_time_mean / 1e6 ,\n",
    "    yerr = write_time_std / 1e6 ,\n",
    "    style = {\"marker\": \"*\", \"linestyle\": \"None\", \"markersize\": 1},\n",
    "    xlim = [-50, 1074],\n",
    "    ylim = [-1, 30],\n",
    "    xticks = [0, 256, 512, 768, 1024],\n",
    "    yticks = [0, 5, 10, 15, 20, 25, 30],\n",
    "    xlabel = \"Waveforms per segment\",\n",
    "    ylabel = \"Loading time (microseconds)\",\n",
    ").draw()\n",
    "\n",
    "\n",
    "plt.suptitle(f\"{title.split('.')[0]}\\nTransfer Buffer Loading Characterization\", fontsize=7)\n",
    "plt.tight_layout()\n",
    "plt.savefig(\"result.jpg\")\n",
    "plt.show()"
   ]
  },
  {
   "cell_type": "markdown",
   "metadata": {},
   "source": [
    "# Waveform Streaming Null Benchmark"
   ]
  },
  {
   "cell_type": "code",
   "execution_count": null,
   "metadata": {},
   "outputs": [],
   "source": [
    "base_cmd = \"./bin/modules/wfm-streaming/null-test\"\n",
    "def get_write_time (wfps, nm, nr):\n",
    "    command = base_cmd + \" \" + str(nm) + \" \" + str(nwps) + \" \" + str(nr)\n",
    "    return os.popen(command).read()"
   ]
  },
  {
   "cell_type": "code",
   "execution_count": null,
   "metadata": {},
   "outputs": [],
   "source": [
    "reps = 1000\n",
    "waveforms_per_segment = [1,2,4,8,16,32,64,128] \n",
    "number_of_moves = [16, 32, 64, 128, 256, 512, 1024, 1472, 2048]\n",
    "time_data = []\n",
    "\n",
    "for i in range(len(waveforms_per_segment)):\n",
    "    print(f\"{i}/{len(waveforms_per_segment)}\")\n",
    "    write_time_list = []\n",
    "    wfps = waveforms_per_segment[i]\n",
    "    temp_data = []\n",
    "    for nm in range(number_of_moves):\n",
    "        write_time_str = get_write_time(wfps, nm,reps)\n",
    "        temp_data.append(float(write_time_str))\n",
    "    time_data += temp_data"
   ]
  },
  {
   "cell_type": "markdown",
   "metadata": {},
   "source": [
    "# Save results"
   ]
  },
  {
   "cell_type": "code",
   "execution_count": null,
   "metadata": {},
   "outputs": [],
   "source": [
    "# Saving the results \n",
    "file_name = datetime.datetime.now().strftime(\"%Y-%m-%d, %H-%M-%S.pickle\")\n",
    "with open(os.path.join(home, \"LLRS\", \"resources\", \"wfm-streaming-characterization\", file_name), \"wb\") as file:\n",
    "    pickle.dump(\n",
    "        {\n",
    "            \"xvals\": waveforms_per_segment,\n",
    "            \"experiment\": file_name,\n",
    "            \"data\": time_data\n",
    "        }, file\n",
    "        )"
   ]
  },
  {
   "cell_type": "markdown",
   "metadata": {},
   "source": [
    "# Load results"
   ]
  },
  {
   "cell_type": "code",
   "execution_count": null,
   "metadata": {},
   "outputs": [],
   "source": [
    "load_latest = True\n",
    "if not load_latest:\n",
    "    file_name = \"2024-04-22, 22-49-39.pickle\"\n",
    "\n",
    "with open(os.path.join(home, \"LLRS\", \"resources\", \"wfm-streaming-characterization\", file_name), \"rb\") as file:\n",
    "    data = pickle.load(file)\n",
    "    roi_heights = np.array(data[\"xvals\"])\n",
    "    time_data = data[\"data\"]\n",
    "    title = data[\"experiment\"]"
   ]
  }
 ],
 "metadata": {
  "kernelspec": {
   "display_name": "tqtraaqs",
   "language": "python",
   "name": "python3"
  },
  "language_info": {
   "codemirror_mode": {
    "name": "ipython",
    "version": 3
   },
   "file_extension": ".py",
   "mimetype": "text/x-python",
   "name": "python",
   "nbconvert_exporter": "python",
   "pygments_lexer": "ipython3",
   "version": "3.9.13"
  },
  "orig_nbformat": 4
 },
 "nbformat": 4,
 "nbformat_minor": 2
}
