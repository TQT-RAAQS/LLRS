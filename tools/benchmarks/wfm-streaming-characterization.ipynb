{
 "cells": [
  {
   "cell_type": "code",
   "execution_count": null,
   "metadata": {},
   "outputs": [],
   "source": [
    "import os\n",
    "from datetime import date, datetime\n",
    "import yaml\n",
    "import sys\n",
    "from pathlib import Path\n",
    "import numpy as np\n",
    "import matplotlib.pyplot as plt\n",
    "from experiment.toolkits.plotting_helper import *\n",
    "\n",
    "project_dir = Path().resolve().parents[1]\n",
    "sys.path.insert(0, str(project_dir))\n",
    "import pickle\n",
    "import datetime\n",
    "import matplotlib.ticker as ticker\n",
    "\n",
    "import experiment.toolkits.figure_formatting.formatter_2023_az as fmt\n",
    "import experiment.toolkits.figure_formatting.production_quality_plots as prod_plot"
   ]
  },
  {
   "cell_type": "code",
   "execution_count": null,
   "metadata": {},
   "outputs": [],
   "source": [
    "home = os.path.expanduser(\"~\") \n",
    "os.chdir(str(project_dir))"
   ]
  },
  {
   "cell_type": "markdown",
   "metadata": {},
   "source": [
    "# Waveform Loading Timing Benchmark"
   ]
  },
  {
   "cell_type": "code",
   "execution_count": null,
   "metadata": {},
   "outputs": [],
   "source": [
    "base_cmd = str(project_dir) + \"/bin/modules/wfm-streaming-benchmarking/timing-test\"\n",
    "def get_write_time (wfps, cb, nr):\n",
    "    if (cb):\n",
    "        command = base_cmd + \" -wfps \" + str(wfps) + \" -cb \" + \" -nr \" + str(nr)\n",
    "    else:\n",
    "        command = base_cmd + \" -wfps \" + str(wfps) + \" -nr \" + str(nr)\n",
    "    return os.popen(command).read()"
   ]
  },
  {
   "cell_type": "code",
   "execution_count": null,
   "metadata": {},
   "outputs": [],
   "source": [
    "reps = 10000\n",
    "waveforms_per_segment = [1,2,4,8,16,32,64,128] \n",
    "continous_buffer = False\n",
    "time_data  = []\n",
    "\n",
    "for i in range(len(waveforms_per_segment)):\n",
    "    print(f\"{i}/{len(waveforms_per_segment)}\")\n",
    "    write_time_list = []\n",
    "    wfps = waveforms_per_segment[i]\n",
    "    write_time_str = get_write_time(wfps,\n",
    "                                    continous_buffer, reps)\n",
    "    print (write_time_str)\n",
    "    time_data += (float(write_time_str.split(\"\\n\")[0]), float(write_time_str.split(\"\\n\")[1]))"
   ]
  },
  {
   "cell_type": "markdown",
   "metadata": {},
   "source": [
    "# Save results"
   ]
  },
  {
   "cell_type": "code",
   "execution_count": null,
   "metadata": {},
   "outputs": [],
   "source": [
    "# Saving the results \n",
    "file_name = \"timing-\" + datetime.datetime.now().strftime(\"%Y-%m-%d, %H-%M-%S.pickle\")\n",
    "with open(os.path.join(home, \"LLRS\", \"resources\", \"wfm-streaming-characterization\", file_name), \"wb\") as file:\n",
    "    pickle.dump(\n",
    "        {\n",
    "            \"xvals\": waveforms_per_segment,\n",
    "            \"continous_buffer\": continous_buffer,\n",
    "            \"experiment\": file_name,\n",
    "            \"data\": time_data\n",
    "        }, file\n",
    "        )"
   ]
  },
  {
   "cell_type": "markdown",
   "metadata": {},
   "source": [
    "# Load results"
   ]
  },
  {
   "cell_type": "code",
   "execution_count": null,
   "metadata": {},
   "outputs": [],
   "source": [
    "load_latest = False \n",
    "if not load_latest:\n",
    "    file_name = \"timing-2024-06-13, 09-24-41.pickle\"\n",
    "\n",
    "with open(os.path.join(home, \"LLRS\", \"resources\", \"wfm-streaming-characterization\", file_name), \"rb\") as file:\n",
    "    data = pickle.load(file)\n",
    "    waveforms_per_segment = data[\"xvals\"]\n",
    "    time_data = data[\"data\"]\n",
    "    title = data[\"experiment\"]"
   ]
  },
  {
   "cell_type": "code",
   "execution_count": null,
   "metadata": {},
   "outputs": [],
   "source": [
    "def xticks(ax, lst):\n",
    "    ax.set_xticks(lst)\n",
    "    diff = (lst[-1] - lst[0]) * 0.05\n",
    "    ax.set_xlim(lst[0] - diff, lst[-1] + diff)\n",
    "def yticks(ax, lst):\n",
    "    ax.set_yticks(lst)\n",
    "    diff = (lst[-1] - lst[0]) * 0.05\n",
    "    ax.set_ylim(lst[0] - diff, lst[-1] + diff)\n"
   ]
  },
  {
   "cell_type": "code",
   "execution_count": null,
   "metadata": {},
   "outputs": [],
   "source": [
    "xvals = waveforms_per_segment\n",
    "yvals = [(time_data[i] * 1e6) for i in range(0, len(time_data), 2)]\n",
    "yerr = [(time_data[i] * 1e6) for i in range(1, len(time_data), 2)]\n",
    "runtimevals = [(xvals[i]*10) for i in range(0, len(xvals))]\n",
    "runtimevals_err = [0 for i in range(0, len(xvals))]\n",
    "fig, ax = plt.subplots() \n",
    "ax.set_xlabel(\"Waveforms per segment\")\n",
    "ax.set_ylabel(\"Time (us)\")\n",
    "\n",
    "\n",
    "prod_plot.production_quality_scatter(fig, ax, [xvals, xvals], [yvals, runtimevals], yerr_list=[yerr, runtimevals_err], save_path=str(project_dir) + \"/wfm-loading.pdf\")\n",
    "ax.legend([\"Upload\", \"Stream\"],fontsize=4)\n",
    "yticks(ax, [0, 250, 500,750, 1000])\n",
    "xticks(ax, [0, 4,8,16,32,64])\n",
    "plt.gca().yaxis.set_major_formatter(ticker.FormatStrFormatter('%d'))\n",
    "plt.savefig(\"wfm-loading.pdf\", format='pdf')\n",
    "plt.show()"
   ]
  },
  {
   "cell_type": "markdown",
   "metadata": {},
   "source": [
    "# Waveform Streaming Null Benchmark"
   ]
  },
  {
   "cell_type": "code",
   "execution_count": null,
   "metadata": {},
   "outputs": [],
   "source": [
    "base_cmd = str(project_dir) + \"/bin/modules/wfm-streaming-benchmarking/null-test\"\n",
    "def get_write_time (wfps, nm, nr):\n",
    "    command = base_cmd + \" \" + str(nm) + \" \" + str(wfps) + \" \" + str(nr)\n",
    "    return os.popen(command).read()"
   ]
  },
  {
   "cell_type": "code",
   "execution_count": null,
   "metadata": {},
   "outputs": [],
   "source": [
    "reps = 1000\n",
    "waveforms_per_segment = [8,16,32,64] \n",
    "number_of_moves = [x for x in range(8, 1505, 8)]\n",
    "time_data = []\n",
    "\n",
    "for i in range(len(waveforms_per_segment)):\n",
    "    print(f\"{i}/{len(waveforms_per_segment)}\")\n",
    "    write_time_list = []\n",
    "    wfps = waveforms_per_segment[i]\n",
    "    temp_data = []\n",
    "    for nm in number_of_moves:\n",
    "        write_time_str = get_write_time(wfps, nm,reps)\n",
    "        temp_data.append(float(write_time_str))\n",
    "    time_data.append(temp_data)"
   ]
  },
  {
   "cell_type": "markdown",
   "metadata": {},
   "source": [
    "# Save results"
   ]
  },
  {
   "cell_type": "code",
   "execution_count": null,
   "metadata": {},
   "outputs": [],
   "source": [
    "# Saving the results \n",
    "file_name = \"null-test-\" + datetime.datetime.now().strftime(\"%Y-%m-%d, %H-%M-%S.pickle\")\n",
    "with open(os.path.join(home, \"LLRS\", \"resources\", \"wfm-streaming-characterization\", file_name), \"wb\") as file:\n",
    "    pickle.dump(\n",
    "        {\n",
    "            \"xvals\": waveforms_per_segment,\n",
    "            \"experiment\": file_name,\n",
    "            \"data\": time_data\n",
    "        }, file\n",
    "        )"
   ]
  },
  {
   "cell_type": "markdown",
   "metadata": {},
   "source": [
    "# Load results"
   ]
  },
  {
   "cell_type": "code",
   "execution_count": null,
   "metadata": {},
   "outputs": [],
   "source": [
    "load_latest = False \n",
    "if not load_latest:\n",
    "    file_name = \"null-test-2024-06-17, 20-32-12.pickle\"\n",
    "\n",
    "with open(os.path.join(home, \"LLRS\", \"resources\", \"wfm-streaming-characterization\", file_name), \"rb\") as file:\n",
    "    data = pickle.load(file)\n",
    "    waveforms_per_segment = data[\"xvals\"]\n",
    "    results = data[\"data\"]\n",
    "    title = data[\"experiment\"]"
   ]
  },
  {
   "cell_type": "code",
   "execution_count": null,
   "metadata": {},
   "outputs": [],
   "source": [
    "xvals = waveforms_per_segment\n",
    "means = [np.mean(results[i]) for i in range(len(results))]\n",
    "stds = [np.std(results[i]) for i in range(len(results))]\n",
    "fig, ax = plt.subplots()\n",
    "ax.set_xlabel(\"Waveforms per segment\")\n",
    "ax.set_ylabel(\"Mean probablity of failure\")\n",
    "\n",
    "\n",
    "prod_plot.production_quality_scatter(fig, ax, xvals, means, yerr_list=stds, save_path=str(project_dir) + \"/wfm-loading-null.pdf\")\n",
    "yticks(ax, [0,0.2,0.4,0.6,0.8, 1])\n",
    "xticks(ax, [0,8,16,32,64])\n",
    "ax.legend([\"98.93%\", \"97.50%\", \"0.39%\", \"0.13%\"],fontsize=4)\n",
    "plt.savefig(\"wfm-loading-null.pdf\", format='pdf')\n",
    "plt.show()"
   ]
  }
 ],
 "metadata": {
  "kernelspec": {
   "display_name": "tqtraaqs",
   "language": "python",
   "name": "python3"
  },
  "language_info": {
   "codemirror_mode": {
    "name": "ipython",
    "version": 3
   },
   "file_extension": ".py",
   "mimetype": "text/x-python",
   "name": "python",
   "nbconvert_exporter": "python",
   "pygments_lexer": "ipython3",
   "version": "3.8.5"
  },
  "orig_nbformat": 4
 },
 "nbformat": 4,
 "nbformat_minor": 2
}
