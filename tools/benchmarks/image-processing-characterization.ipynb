{
 "cells": [
  {
   "cell_type": "code",
   "execution_count": null,
   "metadata": {},
   "outputs": [],
   "source": [
    "import os\n",
    "import csv\n",
    "from datetime import date, datetime\n",
    "import yaml\n",
    "import sys\n",
    "from pathlib import Path\n",
    "import numpy as np\n",
    "import matplotlib.pyplot as plt\n",
    "from experiment.toolkits.plotting_helper import *\n",
    "\n",
    "project_dir = Path().resolve().parents[1]\n",
    "sys.path.insert(0, str(project_dir))\n",
    "from time import sleep\n",
    "import pickle\n",
    "import datetime\n",
    "from scipy.stats import linregress"
   ]
  },
  {
   "cell_type": "code",
   "execution_count": null,
   "metadata": {},
   "outputs": [],
   "source": [
    "os.chdir(str(project_dir))"
   ]
  },
  {
   "cell_type": "code",
   "execution_count": null,
   "metadata": {},
   "outputs": [],
   "source": [
    "base_cmd = \"./bin/modules/image-processing-benchmarking/filtering-test\"\n",
    "def get_processing_time (N_t, kernel_size, reps):\n",
    "    psf_bin_path = str(project_dir) + \"/resources/psf/psf_\" + str(N_t) + '_' + str(kernel_size) + \".bin\"\n",
    "    if not os.path.isfile(psf_bin_path):\n",
    "        psf_pickle_path = str(project_dir) + \"/resources/psf/psf_\" + str(N_t) + '_' + str(kernel_size) + \".pickle\"\n",
    "        os.popen(\"python \" + str(project_dir) + \"/tools/generate_fake_psf.py\" + \" \" + str(N_t) + \" \" + str(kernel_size) + \" \" + psf_pickle_path)\n",
    "        os.popen(str(project_dir) + \"/tools/psf-translator.py --pickle \" + psf_pickle_path + \" --address \" + psf_bin_path)\n",
    "    command = base_cmd + \" \" + psf_bin_path + \" \" + str(N_t) + ' ' + str(kernel_size) + ' ' + str(reps) \n",
    "    return os.popen(command).read()"
   ]
  },
  {
   "cell_type": "code",
   "execution_count": null,
   "metadata": {},
   "outputs": [],
   "source": [
    "reps = 1000\n",
    "N_t = [8,16,32,64,128,256,512,1024,2048] \n",
    "kernel_size = [1, 3, 5, 7, 9]\n",
    "results = [] \n",
    "\n",
    "for i in range(len(kernel_size)):\n",
    "    print(f\"{i}/{len(kernel_size)}\")\n",
    "\n",
    "    ks = kernel_size[i]\n",
    "    temp = []\n",
    "    for nt in N_t:\n",
    "        acq_time_str = get_processing_time(nt, ks, reps)\n",
    "        temp.append(tuple(acq_time_str.split('\\n')[0], acq_time_str.split('\\n')[1]))\n",
    "    results.append(temp)"
   ]
  },
  {
   "cell_type": "markdown",
   "metadata": {},
   "source": [
    "# Save results"
   ]
  },
  {
   "cell_type": "code",
   "execution_count": null,
   "metadata": {},
   "outputs": [],
   "source": [
    "# Saving the results \n",
    "file_name = datetime.datetime.now().strftime(\"%Y-%m-%d, %H-%M-%S.pickle\")\n",
    "with open(os.path.join(str(project_dir), \"resources\", \"image-processing-characterization\", file_name), \"wb\") as file:\n",
    "    pickle.dump(\n",
    "        {\n",
    "            \"xvals\": N_t,\n",
    "            \"kernels\": kernel_size,\n",
    "            \"experiment\": file_name,\n",
    "            \"data\": results \n",
    "        }, file\n",
    "        )"
   ]
  },
  {
   "cell_type": "markdown",
   "metadata": {},
   "source": [
    "# Load results"
   ]
  },
  {
   "cell_type": "code",
   "execution_count": null,
   "metadata": {},
   "outputs": [],
   "source": [
    "load_latest = True\n",
    "if not load_latest:\n",
    "    file_name = \"2024-04-22, 19-04-01.pickle\"\n",
    "\n",
    "with open(os.path.join(str(project_dir), \"resources\", \"image-processing-characterization\", file_name), \"rb\") as file:\n",
    "    data = pickle.load(file)\n",
    "    N_t = data[\"xvals\"]\n",
    "    kernel_size = data[\"kernels\"]\n",
    "    title = data[\"experiment\"]\n",
    "    results = data[\"data\"]"
   ]
  },
  {
   "cell_type": "code",
   "execution_count": null,
   "metadata": {},
   "outputs": [],
   "source": [
    "acq_time_mean = time_data.mean(axis = 1) / 1e6\n",
    "thr_acquisition_time = np.array([theoretical_acquistion_time_oct3(H=h, flag_dma=False)*1000 for h in roi_heights])\n",
    "acq_time_std = time_data.std(axis = 1)\n",
    "\n",
    "xvals = roi_heights / 1024 * 2\n",
    "yvals = acq_time_mean - thr_acquisition_time\n",
    "result = linregress(xvals, yvals)\n",
    "\n",
    "fig, ax = getStylishFigureAxes(1, 1, axes_list=True, dpi=300)\n",
    "ErrorbarPlotter(\n",
    "    fig,\n",
    "    ax[0],\n",
    "    xvals,\n",
    "    yvals,\n",
    "    yerr = acq_time_std / 1e6,\n",
    "    style = {\"marker\": \"*\", \"linestyle\": \"None\", \"markersize\": 1},\n",
    "    xlim = [-0.1, 2.1],\n",
    "    xticks = [0, 1, 2],\n",
    "    xlabel = \"Image size (MB)\",\n",
    "    ylabel = \"$t_{transfer}$ (ms)\",\n",
    "    ylim = [-0.5, 10.5],\n",
    "    yticks = [0, 5, 10],\n",
    "    title = title.split(\".\")[0]\n",
    ").draw()\n",
    "\n",
    "PlotPlotter(\n",
    "    fig,\n",
    "    ax[0],\n",
    "    xvals,\n",
    "    xvals * result.slope + result.intercept,\n",
    "    style = {\"linestyle\" : \"--\", \"color\": \"blue\", \"lw\": 1,\n",
    "             \"label\": \"$f_{PCIe}$ = \" + f\"{str(round(1 / result.slope, 2))} GB/s\"}\n",
    ").draw()\n",
    "\n",
    "ax[0].legend(fontsize=6)\n",
    "plt.savefig(\"result.jpg\")\n",
    "plt.show()"
   ]
  }
 ],
 "metadata": {
  "kernelspec": {
   "display_name": "tqtraaqs",
   "language": "python",
   "name": "python3"
  },
  "language_info": {
   "codemirror_mode": {
    "name": "ipython",
    "version": 3
   },
   "file_extension": ".py",
   "mimetype": "text/x-python",
   "name": "python",
   "nbconvert_exporter": "python",
   "pygments_lexer": "ipython3",
   "version": "3.9.-1"
  },
  "orig_nbformat": 4
 },
 "nbformat": 4,
 "nbformat_minor": 2
}
