{
 "cells": [
  {
   "cell_type": "code",
   "execution_count": null,
   "metadata": {},
   "outputs": [],
   "source": [
    "import os\n",
    "import csv\n",
    "from datetime import date, datetime\n",
    "import yaml\n",
    "import sys\n",
    "from pathlib import Path\n",
    "import numpy as np\n",
    "import matplotlib.pyplot as plt\n",
    "from experiment.toolkits.plotting_helper import *\n",
    "\n",
    "project_dir = Path().resolve().parents[1]\n",
    "sys.path.insert(0, str(project_dir))\n",
    "from time import sleep\n",
    "import pickle\n",
    "import datetime\n",
    "from scipy.stats import linregress\n",
    "import matplotlib.ticker as ticker"
   ]
  },
  {
   "cell_type": "code",
   "execution_count": null,
   "metadata": {},
   "outputs": [],
   "source": [
    "os.chdir(str(project_dir))"
   ]
  },
  {
   "cell_type": "code",
   "execution_count": null,
   "metadata": {},
   "outputs": [],
   "source": [
    "base_cmd = str(project_dir) + \"/bin/modules/image-processing-benchmarking/filtering-test\"\n",
    "def get_processing_time (N_t, kernel_size, reps):\n",
    "    psf_bin_path = str(project_dir) + \"/resources/psf/psf_\" + str(N_t) + '_' + str(kernel_size) + \".bin\"\n",
    "    if not os.path.isfile(psf_bin_path):\n",
    "        psf_pickle_path = str(project_dir) + \"/resources/psf/psf_\" + str(N_t) + '_' + str(kernel_size) + \".pickle\"\n",
    "        os.popen(\"python \" + str(project_dir) + \"/tools/generate-fake-psf.py\" + \" \" + str(N_t) + \" \" + str(kernel_size) + \" \" + psf_pickle_path).read()\n",
    "        os.popen(\"python \" + str(project_dir) + \"/tools/psf-translator.py --pickle \" + psf_pickle_path + \" --address \" + psf_bin_path).read()\n",
    "    command = base_cmd + \" \" + psf_bin_path + \" \" + str(N_t) + ' ' + str(kernel_size) + ' ' + str(reps) \n",
    "    return os.popen(command).read()"
   ]
  },
  {
   "cell_type": "code",
   "execution_count": null,
   "metadata": {},
   "outputs": [],
   "source": [
    "reps = 1000\n",
    "N_t = [8,16,32,64,128,256,512,1024,2048] \n",
    "kernel_size = [1, 3, 5, 7, 9]\n",
    "results = [] \n",
    "\n",
    "for i in range(len(kernel_size)):\n",
    "    print(f\"{i}/{len(kernel_size)}\")\n",
    "\n",
    "    ks = kernel_size[i]\n",
    "    temp = []\n",
    "    for nt in N_t:\n",
    "        acq_time_str = get_processing_time(nt, ks, reps)\n",
    "        temp.append((float(acq_time_str.split('\\n')[0]), float(acq_time_str.split('\\n')[1])))\n",
    "    results.append(temp)"
   ]
  },
  {
   "cell_type": "markdown",
   "metadata": {},
   "source": [
    "# Save results"
   ]
  },
  {
   "cell_type": "code",
   "execution_count": null,
   "metadata": {},
   "outputs": [],
   "source": [
    "# Saving the results \n",
    "file_name = datetime.datetime.now().strftime(\"%Y-%m-%d, %H-%M-%S.pickle\")\n",
    "with open(os.path.join(str(project_dir), \"resources\", \"image-processing-characterization\", file_name), \"wb\") as file:\n",
    "    pickle.dump(\n",
    "        {\n",
    "            \"xvals\": N_t,\n",
    "            \"kernels\": kernel_size,\n",
    "            \"experiment\": file_name,\n",
    "            \"data\": results \n",
    "        }, file\n",
    "        )"
   ]
  },
  {
   "cell_type": "markdown",
   "metadata": {},
   "source": [
    "# Load results"
   ]
  },
  {
   "cell_type": "code",
   "execution_count": null,
   "metadata": {},
   "outputs": [],
   "source": [
    "load_latest = False \n",
    "if not load_latest:\n",
    "    file_name = \"2024-06-13, 10-54-01.pickle\"\n",
    "\n",
    "with open(os.path.join(str(project_dir), \"resources\", \"image-processing-characterization\", file_name), \"rb\") as file:\n",
    "    data = pickle.load(file)\n",
    "    N_t = data[\"xvals\"]\n",
    "    kernel_size = data[\"kernels\"]\n",
    "    title = data[\"experiment\"]\n",
    "    results = data[\"data\"]"
   ]
  },
  {
   "cell_type": "code",
   "execution_count": null,
   "metadata": {},
   "outputs": [],
   "source": [
    "import experiment.toolkits.figure_formatting.formatter_2023_az as fmt\n",
    "import experiment.toolkits.figure_formatting.production_quality_plots as prod_plot"
   ]
  },
  {
   "cell_type": "code",
   "execution_count": null,
   "metadata": {},
   "outputs": [],
   "source": [
    "def xticks(ax, lst):\n",
    "    ax.set_xticks(lst)\n",
    "    diff = (lst[-1] - lst[0]) * 0.05\n",
    "    ax.set_xlim(lst[0] - diff, lst[-1] + diff)\n",
    "def yticks(ax, lst):\n",
    "    ax.set_yticks(lst)\n",
    "    diff = (lst[-1] - lst[0]) * 0.05\n",
    "    ax.set_ylim(lst[0] - diff, lst[-1] + diff)"
   ]
  },
  {
   "cell_type": "code",
   "execution_count": null,
   "metadata": {},
   "outputs": [],
   "source": [
    "xvals = N_t \n",
    "kernel_1 = results[0]\n",
    "kernel_3 = results[1]\n",
    "kernel_5 = results[2]\n",
    "kernel_7 = results[3]\n",
    "result_1 = linregress(xvals, [x[0] * 1e3 for x in kernel_1])\n",
    "result_3 = linregress(xvals, [x[0] * 1e3 for x in kernel_3])\n",
    "result_5 = linregress(xvals, [x[0] * 1e3 for x in kernel_5])\n",
    "result_7 = linregress(xvals, [x[0] * 1e3 for x in kernel_7])\n",
    "print(result_1.intercept, result_1.slope)\n",
    "print(result_3.intercept, result_3.slope)\n",
    "print(result_5.intercept, result_5.slope)\n",
    "print(result_7.intercept, result_7.slope)\n",
    "fig, ax = plt.subplots() \n",
    "ax.set_xlabel(\"Number of traps\")\n",
    "ax.set_ylabel(\"Runtime (ms)\")\n",
    "PlotPlotter(\n",
    "    fig,\n",
    "    ax,\n",
    "    xvals,\n",
    "    [x * result_1.slope + result_1.intercept for x in xvals],\n",
    "    style = {\"linestyle\" : \"-\", \"color\": \"#648EF7\", \"lw\": 1}\n",
    ").draw()\n",
    "PlotPlotter(\n",
    "    fig,\n",
    "    ax,\n",
    "    xvals,\n",
    "    [x * result_3.slope + result_3.intercept for x in xvals],\n",
    "    style = {\"linestyle\" : \"-\", \"color\": \"#E0BB00\", \"lw\": 1}\n",
    ").draw()\n",
    "PlotPlotter(\n",
    "    fig,\n",
    "    ax,\n",
    "    xvals,\n",
    "    [x * result_5.slope + result_5.intercept for x in xvals],\n",
    "    style = {\"linestyle\" : \"-\", \"color\": \"#57B52C\", \"lw\": 1}\n",
    ").draw()\n",
    "PlotPlotter(\n",
    "    fig,\n",
    "    ax,\n",
    "    xvals,\n",
    "    [x * result_7.slope + result_7.intercept for x in xvals],\n",
    "    style = {\"linestyle\" : \"-\", \"color\": \"#C46BC7\", \"lw\": 1}\n",
    ").draw()\n",
    "prod_plot.production_quality_scatter(fig, ax, [xvals, xvals, xvals, xvals], [[(x[0] * 1e3) for x in kernel_1], [(x[0] * 1e3) for x in kernel_3], [(x[0] * 1e3) for x in kernel_5], [(x[0] * 1e3) for x in kernel_7]], yerr_list=[[(x[1] * 1e3) for x in kernel_1], [(x[1] * 1e3) for x in kernel_3], [(x[1] * 1e3) for x in kernel_5], [(x[1] * 1e3) for x in kernel_7]], save_path=str(project_dir) + \"/image-processing.pdf\")\n",
    "ax.legend([\"1x1\", \"3x3\", \"5x5\", \"7x7\"],fontsize=4)\n",
    "yticks(ax, [0, 1, 2, 3, 4])\n",
    "plt.gca().yaxis.set_major_formatter(ticker.FormatStrFormatter('%d'))\n",
    "xticks(ax, [0, 512, 1024, 1536, 2048])\n",
    "plt.savefig(\"image-processing.pdf\", format='pdf')\n",
    "plt.show()"
   ]
  },
  {
   "cell_type": "code",
   "execution_count": null,
   "metadata": {},
   "outputs": [],
   "source": []
  }
 ],
 "metadata": {
  "kernelspec": {
   "display_name": "tqtraaqs",
   "language": "python",
   "name": "python3"
  },
  "language_info": {
   "codemirror_mode": {
    "name": "ipython",
    "version": 3
   },
   "file_extension": ".py",
   "mimetype": "text/x-python",
   "name": "python",
   "nbconvert_exporter": "python",
   "pygments_lexer": "ipython3",
   "version": "3.8.5"
  },
  "orig_nbformat": 4
 },
 "nbformat": 4,
 "nbformat_minor": 2
}
