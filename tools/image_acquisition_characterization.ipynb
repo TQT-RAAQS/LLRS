{
 "cells": [
  {
   "cell_type": "code",
   "execution_count": 1,
   "metadata": {},
   "outputs": [
    {
     "name": "stdout",
     "output_type": "stream",
     "text": [
      "IMPORTED ATMCD\n"
     ]
    }
   ],
   "source": [
    "import os\n",
    "import csv\n",
    "from datetime import date, datetime\n",
    "import yaml\n",
    "import sys\n",
    "from pathlib import Path\n",
    "import numpy as np\n",
    "import matplotlib.pyplot as plt\n",
    "from experiment.toolkits.plotting_helper import *\n",
    "\n",
    "project_dir = Path().resolve().parents[0]\n",
    "sys.path.insert(0, str(project_dir))\n",
    "from modules.camera.andor_ixonultra888.andor_ixonultra888 import AndoriXonUltra888\n",
    "from time import sleep\n",
    "import pickle\n",
    "import datetime\n",
    "from scipy.stats import linregress"
   ]
  },
  {
   "cell_type": "code",
   "execution_count": 2,
   "metadata": {},
   "outputs": [],
   "source": [
    "home = os.path.expanduser(\"~\") \n",
    "os.chdir(home + \"/LLRS\")"
   ]
  },
  {
   "cell_type": "code",
   "execution_count": 3,
   "metadata": {},
   "outputs": [],
   "source": [
    "base_cmd = \"./bin/modules/image-acq/test-img-acq\"\n",
    "def get_acq_time (rx, ry, hb, vb, reps, fgc_timtout):\n",
    "    command = base_cmd + \" -rx \" + str(rx) + \" -ry \" + str(ry) + ' -hb ' + str(hb) + ' -vb ' + str(vb) + \" -n \" + str(reps) + \" -fgct \" + str(round(fgc_timtout))\n",
    "    return os.popen(command).read()"
   ]
  },
  {
   "cell_type": "code",
   "execution_count": 10,
   "metadata": {},
   "outputs": [
    {
     "name": "stdout",
     "output_type": "stream",
     "text": [
      "User path is  None\n"
     ]
    }
   ],
   "source": [
    "camera = AndoriXonUltra888()\n",
    "camera.open_connection()"
   ]
  },
  {
   "cell_type": "code",
   "execution_count": 11,
   "metadata": {},
   "outputs": [
    {
     "name": "stdout",
     "output_type": "stream",
     "text": [
      "SetTemperature with status 20002\n",
      "Camera temp range returned  20002  with low  -120  and max  20\n",
      "Camera temperature set to 0 with status  20002\n",
      "Cooler on with status  20002\n",
      "Camera temp returned  20037  with value  1.4900000095367432\n",
      "SetEMGainMode on with status  20002\n",
      "SetEMAdvanced with status 20002\n",
      "Camera gain range returned  20002  with low  1  and max  4095\n",
      "EMCCD gain set  0 with status 20002\n",
      "Function SetTriggerMode returned 20002 mode = External\n",
      "Function SetFrameTransferMode returned 20002\n",
      "Function SetBaselineClamp returned 20002\n",
      "Function SetCameraLinkMode returned 20002\n",
      "Function SetCoolerMode returned 20002\n",
      "Function SetFanMode returned 20002\n",
      "Attempting to change settings {'temperature': 0, 'block_until_temperature_stabilized': False, 'em_gain_mode': 1, 'em_advanced': 1, 'em_gain': 0, 'frametransfer_mode': 1, 'trigger_mode': 1, 'baseline_clamp': 1, 'cameralink_mode': 1, 'cooler_mode': 1, 'fan_mode': 2}\n",
      "Function SetAcquisitionMode returned 20002\n",
      "Function SetReadMode returned 20002 mode = Image\n",
      "Function SetImage returned 20002 hbin = 1 vbin = 1 hstart = 1 hend = 1024 vstart = 1 vend = 1024\n",
      "Shutter mode: 1, 2, 27, 27, None\n",
      "Function SetShutter returned 20002, mode = 2\n",
      "External function mode: None\n",
      "Function SetExposureTime returned 20002 time = 0.02\n",
      "Function SetOutputAmplifier returned 20002 with index 0\n",
      "Function SetPreAmpGain returned 20002 with index 0\n",
      "Function SetVSSpeed returned 20002 with index 3\n",
      "20002 Changing the ROI to:  {'width': 1024, 'height': 1024, 'left': 1, 'bottom': 1}\n",
      "Function PrepareAcquisition returned 20002\n"
     ]
    }
   ],
   "source": [
    "static_prop_path = home + \"/LLRS/configs/emccd/andor_static_properties.yml\"\n",
    "acquisition_prop_path = home + \"/LLRS/configs/emccd/andor_acquisition_properties.yml\"\n",
    "\n",
    "with open(static_prop_path, \"r\") as static_prop_file:\n",
    "    static_prop_dict = yaml.safe_load(static_prop_file)\n",
    "\n",
    "with open(acquisition_prop_path, \"r\") as acquisition_prop_file:\n",
    "    acquisition_prop_dict = yaml.safe_load(acquisition_prop_file)\n",
    "\n",
    "camera.set_static_properties(static_prop_dict)\n",
    "camera.set_acquisition_properties(acquisition_prop_dict)"
   ]
  },
  {
   "cell_type": "code",
   "execution_count": 59,
   "metadata": {},
   "outputs": [
    {
     "name": "stdout",
     "output_type": "stream",
     "text": [
      "0/32\n"
     ]
    },
    {
     "name": "stderr",
     "output_type": "stream",
     "text": [
      "ERROR REPORTED by PHX Default Error Handler : \n",
      "FBD_GetFpgaModelInfo:  Failed with error code 0x00000008.\n",
      "\n",
      "\n",
      "\"Info Not Found for Board Type \"FBD-1XCLD:2PE4L\"\"\n",
      "\n",
      "(Phoenix Library v8.38.00)\n",
      "ERROR REPORTED by PHX Default Error Handler : \n",
      "FBD_FirmwareRevisionCheck:  Failed with error code 0x00000000.\n",
      "\n",
      "\n",
      "\"Board Contains Firmware [2.21.0] - DLL Contains Firmware [0.0.0]\n",
      "Please Update Board Firmware with FbdProg\"\n",
      "\n",
      "(Phoenix Library v8.38.00)\n"
     ]
    },
    {
     "name": "stdout",
     "output_type": "stream",
     "text": [
      "AbortAcquisition returned 20002\n",
      "1/32\n"
     ]
    },
    {
     "name": "stderr",
     "output_type": "stream",
     "text": [
      "ERROR REPORTED by PHX Default Error Handler : \n",
      "FBD_GetFpgaModelInfo:  Failed with error code 0x00000008.\n",
      "\n",
      "\n",
      "\"Info Not Found for Board Type \"FBD-1XCLD:2PE4L\"\"\n",
      "\n",
      "(Phoenix Library v8.38.00)\n",
      "ERROR REPORTED by PHX Default Error Handler : \n",
      "FBD_FirmwareRevisionCheck:  Failed with error code 0x00000000.\n",
      "\n",
      "\n",
      "\"Board Contains Firmware [2.21.0] - DLL Contains Firmware [0.0.0]\n",
      "Please Update Board Firmware with FbdProg\"\n",
      "\n",
      "(Phoenix Library v8.38.00)\n"
     ]
    },
    {
     "name": "stdout",
     "output_type": "stream",
     "text": [
      "AbortAcquisition returned 20002\n",
      "2/32\n"
     ]
    },
    {
     "name": "stderr",
     "output_type": "stream",
     "text": [
      "ERROR REPORTED by PHX Default Error Handler : \n",
      "FBD_GetFpgaModelInfo:  Failed with error code 0x00000008.\n",
      "\n",
      "\n",
      "\"Info Not Found for Board Type \"FBD-1XCLD:2PE4L\"\"\n",
      "\n",
      "(Phoenix Library v8.38.00)\n",
      "ERROR REPORTED by PHX Default Error Handler : \n",
      "FBD_FirmwareRevisionCheck:  Failed with error code 0x00000000.\n",
      "\n",
      "\n",
      "\"Board Contains Firmware [2.21.0] - DLL Contains Firmware [0.0.0]\n",
      "Please Update Board Firmware with FbdProg\"\n",
      "\n",
      "(Phoenix Library v8.38.00)\n"
     ]
    },
    {
     "name": "stdout",
     "output_type": "stream",
     "text": [
      "AbortAcquisition returned 20002\n",
      "3/32\n"
     ]
    },
    {
     "name": "stderr",
     "output_type": "stream",
     "text": [
      "ERROR REPORTED by PHX Default Error Handler : \n",
      "FBD_GetFpgaModelInfo:  Failed with error code 0x00000008.\n",
      "\n",
      "\n",
      "\"Info Not Found for Board Type \"FBD-1XCLD:2PE4L\"\"\n",
      "\n",
      "(Phoenix Library v8.38.00)\n",
      "ERROR REPORTED by PHX Default Error Handler : \n",
      "FBD_FirmwareRevisionCheck:  Failed with error code 0x00000000.\n",
      "\n",
      "\n",
      "\"Board Contains Firmware [2.21.0] - DLL Contains Firmware [0.0.0]\n",
      "Please Update Board Firmware with FbdProg\"\n",
      "\n",
      "(Phoenix Library v8.38.00)\n"
     ]
    },
    {
     "name": "stdout",
     "output_type": "stream",
     "text": [
      "AbortAcquisition returned 20002\n",
      "4/32\n"
     ]
    },
    {
     "name": "stderr",
     "output_type": "stream",
     "text": [
      "ERROR REPORTED by PHX Default Error Handler : \n",
      "FBD_GetFpgaModelInfo:  Failed with error code 0x00000008.\n",
      "\n",
      "\n",
      "\"Info Not Found for Board Type \"FBD-1XCLD:2PE4L\"\"\n",
      "\n",
      "(Phoenix Library v8.38.00)\n",
      "ERROR REPORTED by PHX Default Error Handler : \n",
      "FBD_FirmwareRevisionCheck:  Failed with error code 0x00000000.\n",
      "\n",
      "\n",
      "\"Board Contains Firmware [2.21.0] - DLL Contains Firmware [0.0.0]\n",
      "Please Update Board Firmware with FbdProg\"\n",
      "\n",
      "(Phoenix Library v8.38.00)\n"
     ]
    },
    {
     "name": "stdout",
     "output_type": "stream",
     "text": [
      "AbortAcquisition returned 20002\n",
      "5/32\n"
     ]
    },
    {
     "name": "stderr",
     "output_type": "stream",
     "text": [
      "ERROR REPORTED by PHX Default Error Handler : \n",
      "FBD_GetFpgaModelInfo:  Failed with error code 0x00000008.\n",
      "\n",
      "\n",
      "\"Info Not Found for Board Type \"FBD-1XCLD:2PE4L\"\"\n",
      "\n",
      "(Phoenix Library v8.38.00)\n",
      "ERROR REPORTED by PHX Default Error Handler : \n",
      "FBD_FirmwareRevisionCheck:  Failed with error code 0x00000000.\n",
      "\n",
      "\n",
      "\"Board Contains Firmware [2.21.0] - DLL Contains Firmware [0.0.0]\n",
      "Please Update Board Firmware with FbdProg\"\n",
      "\n",
      "(Phoenix Library v8.38.00)\n"
     ]
    },
    {
     "name": "stdout",
     "output_type": "stream",
     "text": [
      "AbortAcquisition returned 20002\n",
      "6/32\n"
     ]
    },
    {
     "name": "stderr",
     "output_type": "stream",
     "text": [
      "ERROR REPORTED by PHX Default Error Handler : \n",
      "FBD_GetFpgaModelInfo:  Failed with error code 0x00000008.\n",
      "\n",
      "\n",
      "\"Info Not Found for Board Type \"FBD-1XCLD:2PE4L\"\"\n",
      "\n",
      "(Phoenix Library v8.38.00)\n",
      "ERROR REPORTED by PHX Default Error Handler : \n",
      "FBD_FirmwareRevisionCheck:  Failed with error code 0x00000000.\n",
      "\n",
      "\n",
      "\"Board Contains Firmware [2.21.0] - DLL Contains Firmware [0.0.0]\n",
      "Please Update Board Firmware with FbdProg\"\n",
      "\n",
      "(Phoenix Library v8.38.00)\n"
     ]
    },
    {
     "name": "stdout",
     "output_type": "stream",
     "text": [
      "AbortAcquisition returned 20002\n",
      "7/32\n"
     ]
    },
    {
     "name": "stderr",
     "output_type": "stream",
     "text": [
      "ERROR REPORTED by PHX Default Error Handler : \n",
      "FBD_GetFpgaModelInfo:  Failed with error code 0x00000008.\n",
      "\n",
      "\n",
      "\"Info Not Found for Board Type \"FBD-1XCLD:2PE4L\"\"\n",
      "\n",
      "(Phoenix Library v8.38.00)\n",
      "ERROR REPORTED by PHX Default Error Handler : \n",
      "FBD_FirmwareRevisionCheck:  Failed with error code 0x00000000.\n",
      "\n",
      "\n",
      "\"Board Contains Firmware [2.21.0] - DLL Contains Firmware [0.0.0]\n",
      "Please Update Board Firmware with FbdProg\"\n",
      "\n",
      "(Phoenix Library v8.38.00)\n"
     ]
    },
    {
     "name": "stdout",
     "output_type": "stream",
     "text": [
      "AbortAcquisition returned 20002\n",
      "8/32\n"
     ]
    },
    {
     "name": "stderr",
     "output_type": "stream",
     "text": [
      "ERROR REPORTED by PHX Default Error Handler : \n",
      "FBD_GetFpgaModelInfo:  Failed with error code 0x00000008.\n",
      "\n",
      "\n",
      "\"Info Not Found for Board Type \"FBD-1XCLD:2PE4L\"\"\n",
      "\n",
      "(Phoenix Library v8.38.00)\n",
      "ERROR REPORTED by PHX Default Error Handler : \n",
      "FBD_FirmwareRevisionCheck:  Failed with error code 0x00000000.\n",
      "\n",
      "\n",
      "\"Board Contains Firmware [2.21.0] - DLL Contains Firmware [0.0.0]\n",
      "Please Update Board Firmware with FbdProg\"\n",
      "\n",
      "(Phoenix Library v8.38.00)\n"
     ]
    },
    {
     "name": "stdout",
     "output_type": "stream",
     "text": [
      "AbortAcquisition returned 20002\n",
      "9/32\n"
     ]
    },
    {
     "name": "stderr",
     "output_type": "stream",
     "text": [
      "ERROR REPORTED by PHX Default Error Handler : \n",
      "FBD_GetFpgaModelInfo:  Failed with error code 0x00000008.\n",
      "\n",
      "\n",
      "\"Info Not Found for Board Type \"FBD-1XCLD:2PE4L\"\"\n",
      "\n",
      "(Phoenix Library v8.38.00)\n",
      "ERROR REPORTED by PHX Default Error Handler : \n",
      "FBD_FirmwareRevisionCheck:  Failed with error code 0x00000000.\n",
      "\n",
      "\n",
      "\"Board Contains Firmware [2.21.0] - DLL Contains Firmware [0.0.0]\n",
      "Please Update Board Firmware with FbdProg\"\n",
      "\n",
      "(Phoenix Library v8.38.00)\n"
     ]
    },
    {
     "name": "stdout",
     "output_type": "stream",
     "text": [
      "AbortAcquisition returned 20002\n",
      "10/32\n"
     ]
    },
    {
     "name": "stderr",
     "output_type": "stream",
     "text": [
      "ERROR REPORTED by PHX Default Error Handler : \n",
      "FBD_GetFpgaModelInfo:  Failed with error code 0x00000008.\n",
      "\n",
      "\n",
      "\"Info Not Found for Board Type \"FBD-1XCLD:2PE4L\"\"\n",
      "\n",
      "(Phoenix Library v8.38.00)\n",
      "ERROR REPORTED by PHX Default Error Handler : \n",
      "FBD_FirmwareRevisionCheck:  Failed with error code 0x00000000.\n",
      "\n",
      "\n",
      "\"Board Contains Firmware [2.21.0] - DLL Contains Firmware [0.0.0]\n",
      "Please Update Board Firmware with FbdProg\"\n",
      "\n",
      "(Phoenix Library v8.38.00)\n"
     ]
    },
    {
     "name": "stdout",
     "output_type": "stream",
     "text": [
      "AbortAcquisition returned 20002\n",
      "11/32\n"
     ]
    },
    {
     "name": "stderr",
     "output_type": "stream",
     "text": [
      "ERROR REPORTED by PHX Default Error Handler : \n",
      "FBD_GetFpgaModelInfo:  Failed with error code 0x00000008.\n",
      "\n",
      "\n",
      "\"Info Not Found for Board Type \"FBD-1XCLD:2PE4L\"\"\n",
      "\n",
      "(Phoenix Library v8.38.00)\n",
      "ERROR REPORTED by PHX Default Error Handler : \n",
      "FBD_FirmwareRevisionCheck:  Failed with error code 0x00000000.\n",
      "\n",
      "\n",
      "\"Board Contains Firmware [2.21.0] - DLL Contains Firmware [0.0.0]\n",
      "Please Update Board Firmware with FbdProg\"\n",
      "\n",
      "(Phoenix Library v8.38.00)\n"
     ]
    },
    {
     "name": "stdout",
     "output_type": "stream",
     "text": [
      "AbortAcquisition returned 20002\n",
      "12/32\n"
     ]
    },
    {
     "name": "stderr",
     "output_type": "stream",
     "text": [
      "ERROR REPORTED by PHX Default Error Handler : \n",
      "FBD_GetFpgaModelInfo:  Failed with error code 0x00000008.\n",
      "\n",
      "\n",
      "\"Info Not Found for Board Type \"FBD-1XCLD:2PE4L\"\"\n",
      "\n",
      "(Phoenix Library v8.38.00)\n",
      "ERROR REPORTED by PHX Default Error Handler : \n",
      "FBD_FirmwareRevisionCheck:  Failed with error code 0x00000000.\n",
      "\n",
      "\n",
      "\"Board Contains Firmware [2.21.0] - DLL Contains Firmware [0.0.0]\n",
      "Please Update Board Firmware with FbdProg\"\n",
      "\n",
      "(Phoenix Library v8.38.00)\n"
     ]
    },
    {
     "name": "stdout",
     "output_type": "stream",
     "text": [
      "AbortAcquisition returned 20002\n",
      "13/32\n"
     ]
    },
    {
     "name": "stderr",
     "output_type": "stream",
     "text": [
      "ERROR REPORTED by PHX Default Error Handler : \n",
      "FBD_GetFpgaModelInfo:  Failed with error code 0x00000008.\n",
      "\n",
      "\n",
      "\"Info Not Found for Board Type \"FBD-1XCLD:2PE4L\"\"\n",
      "\n",
      "(Phoenix Library v8.38.00)\n",
      "ERROR REPORTED by PHX Default Error Handler : \n",
      "FBD_FirmwareRevisionCheck:  Failed with error code 0x00000000.\n",
      "\n",
      "\n",
      "\"Board Contains Firmware [2.21.0] - DLL Contains Firmware [0.0.0]\n",
      "Please Update Board Firmware with FbdProg\"\n",
      "\n",
      "(Phoenix Library v8.38.00)\n"
     ]
    },
    {
     "name": "stdout",
     "output_type": "stream",
     "text": [
      "AbortAcquisition returned 20002\n",
      "14/32\n"
     ]
    },
    {
     "name": "stderr",
     "output_type": "stream",
     "text": [
      "ERROR REPORTED by PHX Default Error Handler : \n",
      "FBD_GetFpgaModelInfo:  Failed with error code 0x00000008.\n",
      "\n",
      "\n",
      "\"Info Not Found for Board Type \"FBD-1XCLD:2PE4L\"\"\n",
      "\n",
      "(Phoenix Library v8.38.00)\n",
      "ERROR REPORTED by PHX Default Error Handler : \n",
      "FBD_FirmwareRevisionCheck:  Failed with error code 0x00000000.\n",
      "\n",
      "\n",
      "\"Board Contains Firmware [2.21.0] - DLL Contains Firmware [0.0.0]\n",
      "Please Update Board Firmware with FbdProg\"\n",
      "\n",
      "(Phoenix Library v8.38.00)\n"
     ]
    },
    {
     "name": "stdout",
     "output_type": "stream",
     "text": [
      "AbortAcquisition returned 20002\n",
      "15/32\n"
     ]
    },
    {
     "name": "stderr",
     "output_type": "stream",
     "text": [
      "ERROR REPORTED by PHX Default Error Handler : \n",
      "FBD_GetFpgaModelInfo:  Failed with error code 0x00000008.\n",
      "\n",
      "\n",
      "\"Info Not Found for Board Type \"FBD-1XCLD:2PE4L\"\"\n",
      "\n",
      "(Phoenix Library v8.38.00)\n",
      "ERROR REPORTED by PHX Default Error Handler : \n",
      "FBD_FirmwareRevisionCheck:  Failed with error code 0x00000000.\n",
      "\n",
      "\n",
      "\"Board Contains Firmware [2.21.0] - DLL Contains Firmware [0.0.0]\n",
      "Please Update Board Firmware with FbdProg\"\n",
      "\n",
      "(Phoenix Library v8.38.00)\n"
     ]
    },
    {
     "name": "stdout",
     "output_type": "stream",
     "text": [
      "AbortAcquisition returned 20002\n",
      "16/32\n"
     ]
    },
    {
     "name": "stderr",
     "output_type": "stream",
     "text": [
      "ERROR REPORTED by PHX Default Error Handler : \n",
      "FBD_GetFpgaModelInfo:  Failed with error code 0x00000008.\n",
      "\n",
      "\n",
      "\"Info Not Found for Board Type \"FBD-1XCLD:2PE4L\"\"\n",
      "\n",
      "(Phoenix Library v8.38.00)\n",
      "ERROR REPORTED by PHX Default Error Handler : \n",
      "FBD_FirmwareRevisionCheck:  Failed with error code 0x00000000.\n",
      "\n",
      "\n",
      "\"Board Contains Firmware [2.21.0] - DLL Contains Firmware [0.0.0]\n",
      "Please Update Board Firmware with FbdProg\"\n",
      "\n",
      "(Phoenix Library v8.38.00)\n"
     ]
    },
    {
     "name": "stdout",
     "output_type": "stream",
     "text": [
      "AbortAcquisition returned 20002\n",
      "17/32\n"
     ]
    },
    {
     "name": "stderr",
     "output_type": "stream",
     "text": [
      "ERROR REPORTED by PHX Default Error Handler : \n",
      "FBD_GetFpgaModelInfo:  Failed with error code 0x00000008.\n",
      "\n",
      "\n",
      "\"Info Not Found for Board Type \"FBD-1XCLD:2PE4L\"\"\n",
      "\n",
      "(Phoenix Library v8.38.00)\n",
      "ERROR REPORTED by PHX Default Error Handler : \n",
      "FBD_FirmwareRevisionCheck:  Failed with error code 0x00000000.\n",
      "\n",
      "\n",
      "\"Board Contains Firmware [2.21.0] - DLL Contains Firmware [0.0.0]\n",
      "Please Update Board Firmware with FbdProg\"\n",
      "\n",
      "(Phoenix Library v8.38.00)\n"
     ]
    },
    {
     "name": "stdout",
     "output_type": "stream",
     "text": [
      "AbortAcquisition returned 20002\n",
      "18/32\n"
     ]
    },
    {
     "name": "stderr",
     "output_type": "stream",
     "text": [
      "ERROR REPORTED by PHX Default Error Handler : \n",
      "FBD_GetFpgaModelInfo:  Failed with error code 0x00000008.\n",
      "\n",
      "\n",
      "\"Info Not Found for Board Type \"FBD-1XCLD:2PE4L\"\"\n",
      "\n",
      "(Phoenix Library v8.38.00)\n",
      "ERROR REPORTED by PHX Default Error Handler : \n",
      "FBD_FirmwareRevisionCheck:  Failed with error code 0x00000000.\n",
      "\n",
      "\n",
      "\"Board Contains Firmware [2.21.0] - DLL Contains Firmware [0.0.0]\n",
      "Please Update Board Firmware with FbdProg\"\n",
      "\n",
      "(Phoenix Library v8.38.00)\n"
     ]
    },
    {
     "name": "stdout",
     "output_type": "stream",
     "text": [
      "AbortAcquisition returned 20002\n",
      "19/32\n"
     ]
    },
    {
     "name": "stderr",
     "output_type": "stream",
     "text": [
      "ERROR REPORTED by PHX Default Error Handler : \n",
      "FBD_GetFpgaModelInfo:  Failed with error code 0x00000008.\n",
      "\n",
      "\n",
      "\"Info Not Found for Board Type \"FBD-1XCLD:2PE4L\"\"\n",
      "\n",
      "(Phoenix Library v8.38.00)\n",
      "ERROR REPORTED by PHX Default Error Handler : \n",
      "FBD_FirmwareRevisionCheck:  Failed with error code 0x00000000.\n",
      "\n",
      "\n",
      "\"Board Contains Firmware [2.21.0] - DLL Contains Firmware [0.0.0]\n",
      "Please Update Board Firmware with FbdProg\"\n",
      "\n",
      "(Phoenix Library v8.38.00)\n"
     ]
    },
    {
     "name": "stdout",
     "output_type": "stream",
     "text": [
      "AbortAcquisition returned 20002\n",
      "20/32\n"
     ]
    },
    {
     "name": "stderr",
     "output_type": "stream",
     "text": [
      "ERROR REPORTED by PHX Default Error Handler : \n",
      "FBD_GetFpgaModelInfo:  Failed with error code 0x00000008.\n",
      "\n",
      "\n",
      "\"Info Not Found for Board Type \"FBD-1XCLD:2PE4L\"\"\n",
      "\n",
      "(Phoenix Library v8.38.00)\n",
      "ERROR REPORTED by PHX Default Error Handler : \n",
      "FBD_FirmwareRevisionCheck:  Failed with error code 0x00000000.\n",
      "\n",
      "\n",
      "\"Board Contains Firmware [2.21.0] - DLL Contains Firmware [0.0.0]\n",
      "Please Update Board Firmware with FbdProg\"\n",
      "\n",
      "(Phoenix Library v8.38.00)\n"
     ]
    },
    {
     "name": "stdout",
     "output_type": "stream",
     "text": [
      "AbortAcquisition returned 20002\n",
      "21/32\n"
     ]
    },
    {
     "name": "stderr",
     "output_type": "stream",
     "text": [
      "ERROR REPORTED by PHX Default Error Handler : \n",
      "FBD_GetFpgaModelInfo:  Failed with error code 0x00000008.\n",
      "\n",
      "\n",
      "\"Info Not Found for Board Type \"FBD-1XCLD:2PE4L\"\"\n",
      "\n",
      "(Phoenix Library v8.38.00)\n",
      "ERROR REPORTED by PHX Default Error Handler : \n",
      "FBD_FirmwareRevisionCheck:  Failed with error code 0x00000000.\n",
      "\n",
      "\n",
      "\"Board Contains Firmware [2.21.0] - DLL Contains Firmware [0.0.0]\n",
      "Please Update Board Firmware with FbdProg\"\n",
      "\n",
      "(Phoenix Library v8.38.00)\n"
     ]
    },
    {
     "name": "stdout",
     "output_type": "stream",
     "text": [
      "AbortAcquisition returned 20002\n",
      "22/32\n"
     ]
    },
    {
     "name": "stderr",
     "output_type": "stream",
     "text": [
      "ERROR REPORTED by PHX Default Error Handler : \n",
      "FBD_GetFpgaModelInfo:  Failed with error code 0x00000008.\n",
      "\n",
      "\n",
      "\"Info Not Found for Board Type \"FBD-1XCLD:2PE4L\"\"\n",
      "\n",
      "(Phoenix Library v8.38.00)\n",
      "ERROR REPORTED by PHX Default Error Handler : \n",
      "FBD_FirmwareRevisionCheck:  Failed with error code 0x00000000.\n",
      "\n",
      "\n",
      "\"Board Contains Firmware [2.21.0] - DLL Contains Firmware [0.0.0]\n",
      "Please Update Board Firmware with FbdProg\"\n",
      "\n",
      "(Phoenix Library v8.38.00)\n"
     ]
    },
    {
     "name": "stdout",
     "output_type": "stream",
     "text": [
      "AbortAcquisition returned 20002\n",
      "23/32\n"
     ]
    },
    {
     "name": "stderr",
     "output_type": "stream",
     "text": [
      "ERROR REPORTED by PHX Default Error Handler : \n",
      "FBD_GetFpgaModelInfo:  Failed with error code 0x00000008.\n",
      "\n",
      "\n",
      "\"Info Not Found for Board Type \"FBD-1XCLD:2PE4L\"\"\n",
      "\n",
      "(Phoenix Library v8.38.00)\n",
      "ERROR REPORTED by PHX Default Error Handler : \n",
      "FBD_FirmwareRevisionCheck:  Failed with error code 0x00000000.\n",
      "\n",
      "\n",
      "\"Board Contains Firmware [2.21.0] - DLL Contains Firmware [0.0.0]\n",
      "Please Update Board Firmware with FbdProg\"\n",
      "\n",
      "(Phoenix Library v8.38.00)\n"
     ]
    },
    {
     "name": "stdout",
     "output_type": "stream",
     "text": [
      "AbortAcquisition returned 20002\n",
      "24/32\n"
     ]
    },
    {
     "name": "stderr",
     "output_type": "stream",
     "text": [
      "ERROR REPORTED by PHX Default Error Handler : \n",
      "FBD_GetFpgaModelInfo:  Failed with error code 0x00000008.\n",
      "\n",
      "\n",
      "\"Info Not Found for Board Type \"FBD-1XCLD:2PE4L\"\"\n",
      "\n",
      "(Phoenix Library v8.38.00)\n",
      "ERROR REPORTED by PHX Default Error Handler : \n",
      "FBD_FirmwareRevisionCheck:  Failed with error code 0x00000000.\n",
      "\n",
      "\n",
      "\"Board Contains Firmware [2.21.0] - DLL Contains Firmware [0.0.0]\n",
      "Please Update Board Firmware with FbdProg\"\n",
      "\n",
      "(Phoenix Library v8.38.00)\n"
     ]
    },
    {
     "name": "stdout",
     "output_type": "stream",
     "text": [
      "AbortAcquisition returned 20002\n",
      "25/32\n"
     ]
    },
    {
     "name": "stderr",
     "output_type": "stream",
     "text": [
      "ERROR REPORTED by PHX Default Error Handler : \n",
      "FBD_GetFpgaModelInfo:  Failed with error code 0x00000008.\n",
      "\n",
      "\n",
      "\"Info Not Found for Board Type \"FBD-1XCLD:2PE4L\"\"\n",
      "\n",
      "(Phoenix Library v8.38.00)\n",
      "ERROR REPORTED by PHX Default Error Handler : \n",
      "FBD_FirmwareRevisionCheck:  Failed with error code 0x00000000.\n",
      "\n",
      "\n",
      "\"Board Contains Firmware [2.21.0] - DLL Contains Firmware [0.0.0]\n",
      "Please Update Board Firmware with FbdProg\"\n",
      "\n",
      "(Phoenix Library v8.38.00)\n"
     ]
    },
    {
     "name": "stdout",
     "output_type": "stream",
     "text": [
      "AbortAcquisition returned 20002\n",
      "26/32\n"
     ]
    },
    {
     "name": "stderr",
     "output_type": "stream",
     "text": [
      "ERROR REPORTED by PHX Default Error Handler : \n",
      "FBD_GetFpgaModelInfo:  Failed with error code 0x00000008.\n",
      "\n",
      "\n",
      "\"Info Not Found for Board Type \"FBD-1XCLD:2PE4L\"\"\n",
      "\n",
      "(Phoenix Library v8.38.00)\n",
      "ERROR REPORTED by PHX Default Error Handler : \n",
      "FBD_FirmwareRevisionCheck:  Failed with error code 0x00000000.\n",
      "\n",
      "\n",
      "\"Board Contains Firmware [2.21.0] - DLL Contains Firmware [0.0.0]\n",
      "Please Update Board Firmware with FbdProg\"\n",
      "\n",
      "(Phoenix Library v8.38.00)\n"
     ]
    },
    {
     "name": "stdout",
     "output_type": "stream",
     "text": [
      "AbortAcquisition returned 20002\n",
      "27/32\n"
     ]
    },
    {
     "name": "stderr",
     "output_type": "stream",
     "text": [
      "ERROR REPORTED by PHX Default Error Handler : \n",
      "FBD_GetFpgaModelInfo:  Failed with error code 0x00000008.\n",
      "\n",
      "\n",
      "\"Info Not Found for Board Type \"FBD-1XCLD:2PE4L\"\"\n",
      "\n",
      "(Phoenix Library v8.38.00)\n",
      "ERROR REPORTED by PHX Default Error Handler : \n",
      "FBD_FirmwareRevisionCheck:  Failed with error code 0x00000000.\n",
      "\n",
      "\n",
      "\"Board Contains Firmware [2.21.0] - DLL Contains Firmware [0.0.0]\n",
      "Please Update Board Firmware with FbdProg\"\n",
      "\n",
      "(Phoenix Library v8.38.00)\n"
     ]
    },
    {
     "name": "stdout",
     "output_type": "stream",
     "text": [
      "AbortAcquisition returned 20002\n",
      "28/32\n"
     ]
    },
    {
     "name": "stderr",
     "output_type": "stream",
     "text": [
      "ERROR REPORTED by PHX Default Error Handler : \n",
      "FBD_GetFpgaModelInfo:  Failed with error code 0x00000008.\n",
      "\n",
      "\n",
      "\"Info Not Found for Board Type \"FBD-1XCLD:2PE4L\"\"\n",
      "\n",
      "(Phoenix Library v8.38.00)\n",
      "ERROR REPORTED by PHX Default Error Handler : \n",
      "FBD_FirmwareRevisionCheck:  Failed with error code 0x00000000.\n",
      "\n",
      "\n",
      "\"Board Contains Firmware [2.21.0] - DLL Contains Firmware [0.0.0]\n",
      "Please Update Board Firmware with FbdProg\"\n",
      "\n",
      "(Phoenix Library v8.38.00)\n"
     ]
    },
    {
     "name": "stdout",
     "output_type": "stream",
     "text": [
      "AbortAcquisition returned 20002\n",
      "29/32\n"
     ]
    },
    {
     "name": "stderr",
     "output_type": "stream",
     "text": [
      "ERROR REPORTED by PHX Default Error Handler : \n",
      "FBD_GetFpgaModelInfo:  Failed with error code 0x00000008.\n",
      "\n",
      "\n",
      "\"Info Not Found for Board Type \"FBD-1XCLD:2PE4L\"\"\n",
      "\n",
      "(Phoenix Library v8.38.00)\n",
      "ERROR REPORTED by PHX Default Error Handler : \n",
      "FBD_FirmwareRevisionCheck:  Failed with error code 0x00000000.\n",
      "\n",
      "\n",
      "\"Board Contains Firmware [2.21.0] - DLL Contains Firmware [0.0.0]\n",
      "Please Update Board Firmware with FbdProg\"\n",
      "\n",
      "(Phoenix Library v8.38.00)\n"
     ]
    },
    {
     "name": "stdout",
     "output_type": "stream",
     "text": [
      "AbortAcquisition returned 20002\n",
      "30/32\n"
     ]
    },
    {
     "name": "stderr",
     "output_type": "stream",
     "text": [
      "ERROR REPORTED by PHX Default Error Handler : \n",
      "FBD_GetFpgaModelInfo:  Failed with error code 0x00000008.\n",
      "\n",
      "\n",
      "\"Info Not Found for Board Type \"FBD-1XCLD:2PE4L\"\"\n",
      "\n",
      "(Phoenix Library v8.38.00)\n",
      "ERROR REPORTED by PHX Default Error Handler : \n",
      "FBD_FirmwareRevisionCheck:  Failed with error code 0x00000000.\n",
      "\n",
      "\n",
      "\"Board Contains Firmware [2.21.0] - DLL Contains Firmware [0.0.0]\n",
      "Please Update Board Firmware with FbdProg\"\n",
      "\n",
      "(Phoenix Library v8.38.00)\n"
     ]
    },
    {
     "name": "stdout",
     "output_type": "stream",
     "text": [
      "AbortAcquisition returned 20002\n",
      "31/32\n"
     ]
    },
    {
     "name": "stderr",
     "output_type": "stream",
     "text": [
      "ERROR REPORTED by PHX Default Error Handler : \n",
      "FBD_GetFpgaModelInfo:  Failed with error code 0x00000008.\n",
      "\n",
      "\n",
      "\"Info Not Found for Board Type \"FBD-1XCLD:2PE4L\"\"\n",
      "\n",
      "(Phoenix Library v8.38.00)\n",
      "ERROR REPORTED by PHX Default Error Handler : \n",
      "FBD_FirmwareRevisionCheck:  Failed with error code 0x00000000.\n",
      "\n",
      "\n",
      "\"Board Contains Firmware [2.21.0] - DLL Contains Firmware [0.0.0]\n",
      "Please Update Board Firmware with FbdProg\"\n",
      "\n",
      "(Phoenix Library v8.38.00)\n"
     ]
    },
    {
     "name": "stdout",
     "output_type": "stream",
     "text": [
      "AbortAcquisition returned 20002\n"
     ]
    }
   ],
   "source": [
    "reps = 10\n",
    "roi_heights = list(range(16, 1025, 32))\n",
    "time_data = np.full((len(roi_heights), reps), np.nan)\n",
    "fgc_timeout = camera.sdk.GetAcquisitionTimings()[1] * 1e3 + 10 # Retrieves the exposure time in ms\n",
    "\n",
    "for i in range(len(roi_heights)):\n",
    "    print(f\"{i}/{len(roi_heights)}\")\n",
    "\n",
    "    height = roi_heights[i]\n",
    "\n",
    "    camera.sdk.SetIsolatedCropModeEx(\n",
    "        1,\n",
    "        height,\n",
    "        1024,\n",
    "        1,\n",
    "        1,\n",
    "        1,\n",
    "        1\n",
    "    )\n",
    "\n",
    "    camera.listen_for_hardware_trigger()\n",
    "\n",
    "    acq_time_str = get_acq_time(1024,\n",
    "                                height, \n",
    "                                1,\n",
    "                                1,\n",
    "                                reps,\n",
    "                                fgc_timeout)\n",
    "\n",
    "    camera.stop_listening_for_hardware_trigger()\n",
    "\n",
    "    acq_time_list = [int(num) for num in acq_time_str.strip().split(\",\") if num]\n",
    "\n",
    "    time_data[i, :] = np.array(acq_time_list)"
   ]
  },
  {
   "cell_type": "markdown",
   "metadata": {},
   "source": [
    "# Save results"
   ]
  },
  {
   "cell_type": "code",
   "execution_count": 60,
   "metadata": {},
   "outputs": [],
   "source": [
    "# Saving the results \n",
    "file_name = datetime.datetime.now().strftime(\"%Y-%m-%d, %H-%M-%S.pickle\")\n",
    "with open(os.path.join(home, \"LLRS\", \"resources\", \"image_acquisition_characterization\", file_name), \"wb\") as file:\n",
    "    pickle.dump(\n",
    "        {\n",
    "            \"xvals\": roi_heights,\n",
    "            \"experiment\": file_name,\n",
    "            \"data\": time_data\n",
    "        }, file\n",
    "        )"
   ]
  },
  {
   "cell_type": "markdown",
   "metadata": {},
   "source": [
    "# Load results"
   ]
  },
  {
   "cell_type": "code",
   "execution_count": 61,
   "metadata": {},
   "outputs": [],
   "source": [
    "load_latest = True\n",
    "if not load_latest:\n",
    "    file_name = \"2024-04-22, 19-04-01.pickle\"\n",
    "\n",
    "with open(os.path.join(home, \"LLRS\", \"resources\", \"image_acquisition_characterization\", file_name), \"rb\") as file:\n",
    "    data = pickle.load(file)\n",
    "    roi_heights = np.array(data[\"xvals\"])\n",
    "    time_data = data[\"data\"]\n",
    "    title = data[\"experiment\"]"
   ]
  },
  {
   "cell_type": "code",
   "execution_count": 62,
   "metadata": {},
   "outputs": [],
   "source": [
    "def theoretical_acquistion_time_oct3(T_exposure=0.02, f_v=1/4.33e-6, f_h=30e6, f_PCIe=1.784e9, f_link=6.1e9, S_y=1039, \n",
    "                                    N_D=468, N_G=604, N_O=16, W=1024, H=1024, S_h=1056, bin_v=1, flag_dma=True):\n",
    "    T_transfer = S_y/f_v + H/f_v * sum([1/(2**i)for i in range(1, int(np.log2(bin_v)))])\n",
    "    T_horshift = H/bin_v * (1/f_v + (S_h + N_O - 1024 + W)/f_h)\n",
    "    T_register = (N_D + N_G)/f_h\n",
    "    T_dma = (H/bin_v * W * 2) / f_PCIe\n",
    "    return T_exposure + T_transfer + T_horshift + T_register + T_dma * flag_dma"
   ]
  },
  {
   "cell_type": "code",
   "execution_count": 63,
   "metadata": {},
   "outputs": [
    {
     "data": {
      "image/png": "[encoded data removed]",
      "text/plain": [
       "<Figure size 1200x600 with 2 Axes>"
      ]
     },
     "metadata": {
      "needs_background": "light"
     },
     "output_type": "display_data"
    }
   ],
   "source": [
    "acq_time_mean = time_data.mean(axis = 1)\n",
    "acq_time_std = time_data.std(axis = 1)\n",
    "\n",
    "fig, ax = getStylishFigureAxes(1, 2, dpi=300)\n",
    "\n",
    "ErrorbarPlotter(\n",
    "    fig,\n",
    "    ax[0],\n",
    "    roi_heights,\n",
    "    acq_time_mean / 1e6,\n",
    "    yerr = acq_time_std / 1e6,\n",
    "    style = {\"marker\": \"*\", \"linestyle\": \"None\", \"markersize\": 1},\n",
    "    xlim = [-50, 1074],\n",
    "    ylim = [-5, 85],\n",
    "    xticks = [0, 256, 512, 768, 1024],\n",
    "    yticks = [0, 20, 40, 60, 80],\n",
    "    xlabel = \"ROI height (pixels)\",\n",
    "    ylabel = \"Acquisition time (ms)\"\n",
    ").draw()\n",
    "\n",
    "xvals = np.linspace(16, 1024, 100)\n",
    "yvals = np.array([theoretical_acquistion_time_oct3(W = 1024, H = x) for x in xvals])\n",
    "PlotPlotter(\n",
    "    fig,\n",
    "    ax[0],\n",
    "    xvals,\n",
    "    yvals * 1e3,\n",
    "    style = {\"linestyle\": \"-\", \"lw\": 1, \"label\": \"Theoretical value\"},\n",
    ").draw()\n",
    "\n",
    "ax[0].axhline(20, linestyle = \"--\", linewidth = 1, color = \"black\", label = \"Exposure time\")\n",
    "ax[0].legend(fontsize=6)\n",
    "\n",
    "yvals = np.array([theoretical_acquistion_time_oct3(W = 1024, H = x) for x in roi_heights])\n",
    "ErrorbarPlotter(\n",
    "    fig,\n",
    "    ax[1],\n",
    "    roi_heights,\n",
    "    acq_time_mean / 1e6 - yvals * 1e3,\n",
    "    yerr = acq_time_std / 1e6,\n",
    "    ylim = [-0.5, 10.5],\n",
    "    yticks = [0, 2, 4, 6, 8, 10],\n",
    "    xlim = [-50, 1074],\n",
    "    xticks = [0, 256, 512, 768, 1024],\n",
    "    style = {\"linestyle\": \"-\", \"marker\": \"s\", \"markersize\": 1},\n",
    "    xlabel = \"ROI height (pixels)\",\n",
    "    ylabel = \"$\\Delta$t (ms)\",\n",
    ").draw()\n",
    "\n",
    "plt.suptitle(f\"{title.split('.')[0]}\\nTime Acquisition Characterization\", fontsize=7)\n",
    "plt.tight_layout()\n",
    "plt.savefig(\"result.jpg\")\n",
    "plt.show()"
   ]
  },
  {
   "cell_type": "code",
   "execution_count": 26,
   "metadata": {},
   "outputs": [
    {
     "data": {
      "image/png": "[encoded data removed]",
      "text/plain": [
       "<Figure size 600x600 with 1 Axes>"
      ]
     },
     "metadata": {
      "needs_background": "light"
     },
     "output_type": "display_data"
    }
   ],
   "source": [
    "acq_time_mean = time_data.mean(axis = 1)\n",
    "acq_time_std = time_data.std(axis = 1)\n",
    "\n",
    "fig, ax = getStylishFigureAxes(1, 1, dpi=300)\n",
    "\n",
    "yvals = np.array([theoretical_acquistion_time_oct3(W = 1024, H = x) for x in roi_heights])\n",
    "ErrorbarPlotter(\n",
    "    fig,\n",
    "    ax,\n",
    "    roi_heights,\n",
    "    (acq_time_mean / 1e6 - yvals * 1e3) / (yvals * 1e3),\n",
    "    yerr = acq_time_std / 1e6 / (yvals * 1e3),\n",
    "    ylim = [-0.02, 0.12],\n",
    "    yticks = [0, 0.05, 0.1],\n",
    "    xlim = [-50, 1074],\n",
    "    xticks = [0, 256, 512, 768, 1024],\n",
    "    style = {\"linestyle\": \"-\", \"marker\": \"s\", \"markersize\": 1},\n",
    "    xlabel = \"ROI height (pixels)\",\n",
    "    ylabel = \"$\\Delta$t / t${}_{theoretical}$\",\n",
    ").draw()\n",
    "\n",
    "ax.set_title(f\"{title.split('.')[0]}\\nTime Acquisition Characterization\", fontsize=7)\n",
    "plt.tight_layout()\n",
    "plt.savefig(\"result.jpg\")\n",
    "plt.show()"
   ]
  },
  {
   "cell_type": "code",
   "execution_count": 123,
   "metadata": {},
   "outputs": [
    {
     "data": {
      "image/png": "[encoded data removed]",
      "text/plain": [
       "<Figure size 600x600 with 1 Axes>"
      ]
     },
     "metadata": {
      "needs_background": "light"
     },
     "output_type": "display_data"
    }
   ],
   "source": [
    "acq_time_mean = time_data.mean(axis = 1) / 1e6\n",
    "thr_acquisition_time = np.array([theoretical_acquistion_time_oct3(H=h, flag_dma=False)*1000 for h in roi_heights])\n",
    "acq_time_std = time_data.std(axis = 1)\n",
    "\n",
    "xvals = roi_heights / 1024 * 2\n",
    "yvals = acq_time_mean - thr_acquisition_time\n",
    "result = linregress(xvals, yvals)\n",
    "\n",
    "fig, ax = getStylishFigureAxes(1, 1, axes_list=True, dpi=300)\n",
    "ErrorbarPlotter(\n",
    "    fig,\n",
    "    ax[0],\n",
    "    xvals,\n",
    "    yvals,\n",
    "    yerr = acq_time_std / 1e6,\n",
    "    style = {\"marker\": \"*\", \"linestyle\": \"None\", \"markersize\": 1},\n",
    "    xlim = [-0.1, 2.1],\n",
    "    xticks = [0, 1, 2],\n",
    "    xlabel = \"Image size (MB)\",\n",
    "    ylabel = \"$t_{transfer}$ (ms)\",\n",
    "    ylim = [-0.5, 10.5],\n",
    "    yticks = [0, 5, 10],\n",
    "    title = title.split(\".\")[0]\n",
    ").draw()\n",
    "\n",
    "PlotPlotter(\n",
    "    fig,\n",
    "    ax[0],\n",
    "    xvals,\n",
    "    xvals * result.slope + result.intercept,\n",
    "    style = {\"linestyle\" : \"--\", \"color\": \"blue\", \"lw\": 1,\n",
    "             \"label\": \"$f_{PCIe}$ = \" + f\"{str(round(1 / result.slope, 2))} GB/s\"}\n",
    ").draw()\n",
    "\n",
    "ax[0].legend(fontsize=6)\n",
    "plt.savefig(\"result.jpg\")\n",
    "plt.show()"
   ]
  },
  {
   "cell_type": "code",
   "execution_count": null,
   "metadata": {},
   "outputs": [],
   "source": [
    "camera.close_connection()"
   ]
  }
 ],
 "metadata": {
  "kernelspec": {
   "display_name": "tqtraaqs",
   "language": "python",
   "name": "python3"
  },
  "language_info": {
   "codemirror_mode": {
    "name": "ipython",
    "version": 3
   },
   "file_extension": ".py",
   "mimetype": "text/x-python",
   "name": "python",
   "nbconvert_exporter": "python",
   "pygments_lexer": "ipython3",
   "version": "3.8.12"
  },
  "orig_nbformat": 4
 },
 "nbformat": 4,
 "nbformat_minor": 2
}
