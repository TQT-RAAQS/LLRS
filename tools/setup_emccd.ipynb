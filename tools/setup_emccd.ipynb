{
 "cells": [
  {
   "cell_type": "code",
   "execution_count": 8,
   "metadata": {},
   "outputs": [
    {
     "name": "stdout",
     "output_type": "stream",
     "text": [
      "User path is  None\n",
      "SetTemperature with status 20002\n",
      "Camera temp range returned  20002  with low  -120  and max  20\n",
      "Camera temperature set to 0 with status  20002\n",
      "Cooler on with status  20002\n",
      "Camera temp returned  20037  with value  17.790000915527344\n",
      "SetEMGainMode on with status  20002\n",
      "SetEMAdvanced with status 20002\n",
      "Camera gain range returned  20002  with low  1  and max  4095\n",
      "EMCCD gain set  0 with status 20002\n",
      "Function SetTriggerMode returned 20002 mode = External\n",
      "Function SetFrameTransferMode returned 20002\n",
      "Function SetBaselineClamp returned 20002\n",
      "Function SetCameraLinkMode returned 20002\n",
      "Function SetCoolerMode returned 20002\n",
      "Function SetFanMode returned 20002\n",
      "Attempting to change settings {'temperature': 0, 'block_until_temperature_stabilized': False, 'em_gain_mode': 1, 'em_advanced': 1, 'em_gain': 0, 'frametransfer_mode': 1, 'trigger_mode': 1, 'baseline_clamp': 1, 'cameralink_mode': 1, 'cooler_mode': 1, 'fan_mode': 2}\n",
      "Function SetAcquisitionMode returned 20002\n",
      "Function SetReadMode returned 20002 mode = Image\n",
      "Function SetImage returned 20002 hbin = 1 vbin = 1 hstart = 1 hend = 1024 vstart = 1 vend = 1024\n",
      "Shutter mode: 1, 2, 27, 27, None\n",
      "Function SetShutter returned 20002, mode = 2\n",
      "External function mode: None\n",
      "Function SetExposureTime returned 20002 time = 0.02\n",
      "Function SetOutputAmplifier returned 20002 with index 0\n",
      "Function SetPreAmpGain returned 20002 with index 0\n",
      "Function SetVSSpeed returned 20002 with index 3\n",
      "20002 Changing the ROI to:  {'width': 1024, 'height': 1024, 'left': 1, 'bottom': 1}\n",
      "Function PrepareAcquisition returned 20002\n"
     ]
    }
   ],
   "source": [
    "import yaml\n",
    "import os\n",
    "from pathlib import Path\n",
    "import sys\n",
    "project_dir = Path().resolve().parents[0]\n",
    "sys.path.insert(0, str(project_dir) + \"/modules/camera\")\n",
    "from andor_ixonultra888.andor_ixonultra888 import AndoriXonUltra888\n",
    "home = os.path.expanduser(\"~\")\n",
    "\n",
    "# paths to config\n",
    "\n",
    "static_prop_path = str(project_dir) + \"/configs/emccd/andor_static_properties.yml\"\n",
    "acquisition_prop_path = str(project_dir) + \"/configs/emccd/andor_acquisition_properties.yml\"\n",
    "# --- set static properties ---\n",
    "\n",
    "# read yaml\n",
    "with open(static_prop_path, \"r\") as static_prop_file:\n",
    "    static_prop_dict = yaml.safe_load(static_prop_file)\n",
    "\n",
    "# --- set dynamic properties ---\n",
    "\n",
    "# read yaml\n",
    "with open(acquisition_prop_path, \"r\") as acquisition_prop_file:\n",
    "    acquisition_prop_dict = yaml.safe_load(acquisition_prop_file)\n",
    "\n",
    "# open connection\n",
    "camera = AndoriXonUltra888()\n",
    "camera.open_connection()\n",
    "\n",
    "# set properties\n",
    "camera.set_static_properties(static_prop_dict)\n",
    "\n",
    "# set properties\n",
    "camera.set_acquisition_properties(acquisition_prop_dict)\n"
   ]
  },
  {
   "cell_type": "code",
   "execution_count": 9,
   "metadata": {},
   "outputs": [
    {
     "data": {
      "text/plain": [
       "(20002, 1024, 1024)"
      ]
     },
     "execution_count": 9,
     "metadata": {},
     "output_type": "execute_result"
    }
   ],
   "source": [
    "camera.sdk.GetDetector()"
   ]
  },
  {
   "cell_type": "code",
   "execution_count": 10,
   "metadata": {},
   "outputs": [
    {
     "name": "stdout",
     "output_type": "stream",
     "text": [
      "EMCCD Setup completed\n"
     ]
    }
   ],
   "source": [
    "# start acquisition\n",
    "camera.listen_for_hardware_trigger()\n",
    "\n",
    "print(\"EMCCD Setup completed\")"
   ]
  },
  {
   "cell_type": "code",
   "execution_count": null,
   "metadata": {},
   "outputs": [],
   "source": [
    "camera.stop_listening_for_hardware_trigger()"
   ]
  },
  {
   "cell_type": "code",
   "execution_count": null,
   "metadata": {},
   "outputs": [],
   "source": [
    "camera.sdk.GetTotalNumberImagesAcquired()"
   ]
  },
  {
   "cell_type": "code",
   "execution_count": null,
   "metadata": {},
   "outputs": [],
   "source": [
    "camera.close_connection()"
   ]
  }
 ],
 "metadata": {
  "kernelspec": {
   "display_name": "Python 3",
   "language": "python",
   "name": "python3"
  },
  "language_info": {
   "codemirror_mode": {
    "name": "ipython",
    "version": 3
   },
   "file_extension": ".py",
   "mimetype": "text/x-python",
   "name": "python",
   "nbconvert_exporter": "python",
   "pygments_lexer": "ipython3",
   "version": "3.9.13"
  },
  "orig_nbformat": 4
 },
 "nbformat": 4,
 "nbformat_minor": 2
}
