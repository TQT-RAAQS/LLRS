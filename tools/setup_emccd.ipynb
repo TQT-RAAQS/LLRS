{
 "cells": [
  {
   "cell_type": "code",
   "execution_count": 1,
   "metadata": {},
   "outputs": [
    {
     "ename": "FileNotFoundError",
     "evalue": "[Errno 2] No such file or directory: '\\\\home\\\\tqtraaqs\\\\Experiment\\\\experiment\\\\modules\\\\LLRS\\\\config\\\\andor_static_properties.yml'",
     "output_type": "error",
     "traceback": [
      "\u001b[1;31m---------------------------------------------------------------------------\u001b[0m",
      "\u001b[1;31mFileNotFoundError\u001b[0m                         Traceback (most recent call last)",
      "\u001b[1;32mc:\\Users\\tqtraaqs\\Desktop\\tqtraaqs_git\\Experiment\\experiment\\modules\\LLRS\\scripts\\setup_emccd.ipynb Cell 1\u001b[0m line \u001b[0;36m<cell line: 12>\u001b[1;34m()\u001b[0m\n\u001b[0;32m      <a href='vscode-notebook-cell:/c%3A/Users/tqtraaqs/Desktop/tqtraaqs_git/Experiment/experiment/modules/LLRS/scripts/setup_emccd.ipynb#W0sZmlsZQ%3D%3D?line=6'>7</a>\u001b[0m acquisition_prop_path \u001b[39m=\u001b[39m \u001b[39mstr\u001b[39m(Path(\u001b[39m\"\u001b[39m\u001b[39m/home/tqtraaqs/Experiment/experiment/modules/LLRS/config/andor_acquisition_properties.yml\u001b[39m\u001b[39m\"\u001b[39m))\n\u001b[0;32m      <a href='vscode-notebook-cell:/c%3A/Users/tqtraaqs/Desktop/tqtraaqs_git/Experiment/experiment/modules/LLRS/scripts/setup_emccd.ipynb#W0sZmlsZQ%3D%3D?line=8'>9</a>\u001b[0m \u001b[39m# --- set static properties ---\u001b[39;00m\n\u001b[0;32m     <a href='vscode-notebook-cell:/c%3A/Users/tqtraaqs/Desktop/tqtraaqs_git/Experiment/experiment/modules/LLRS/scripts/setup_emccd.ipynb#W0sZmlsZQ%3D%3D?line=9'>10</a>\u001b[0m \n\u001b[0;32m     <a href='vscode-notebook-cell:/c%3A/Users/tqtraaqs/Desktop/tqtraaqs_git/Experiment/experiment/modules/LLRS/scripts/setup_emccd.ipynb#W0sZmlsZQ%3D%3D?line=10'>11</a>\u001b[0m \u001b[39m# read yaml\u001b[39;00m\n\u001b[1;32m---> <a href='vscode-notebook-cell:/c%3A/Users/tqtraaqs/Desktop/tqtraaqs_git/Experiment/experiment/modules/LLRS/scripts/setup_emccd.ipynb#W0sZmlsZQ%3D%3D?line=11'>12</a>\u001b[0m \u001b[39mwith\u001b[39;00m \u001b[39mopen\u001b[39;49m(static_prop_path, \u001b[39m\"\u001b[39;49m\u001b[39mr\u001b[39;49m\u001b[39m\"\u001b[39;49m) \u001b[39mas\u001b[39;00m static_prop_file:\n\u001b[0;32m     <a href='vscode-notebook-cell:/c%3A/Users/tqtraaqs/Desktop/tqtraaqs_git/Experiment/experiment/modules/LLRS/scripts/setup_emccd.ipynb#W0sZmlsZQ%3D%3D?line=12'>13</a>\u001b[0m     static_prop_dict \u001b[39m=\u001b[39m yaml\u001b[39m.\u001b[39msafe_load(static_prop_file)\n\u001b[0;32m     <a href='vscode-notebook-cell:/c%3A/Users/tqtraaqs/Desktop/tqtraaqs_git/Experiment/experiment/modules/LLRS/scripts/setup_emccd.ipynb#W0sZmlsZQ%3D%3D?line=14'>15</a>\u001b[0m \u001b[39m# --- set dynamic properties ---\u001b[39;00m\n\u001b[0;32m     <a href='vscode-notebook-cell:/c%3A/Users/tqtraaqs/Desktop/tqtraaqs_git/Experiment/experiment/modules/LLRS/scripts/setup_emccd.ipynb#W0sZmlsZQ%3D%3D?line=15'>16</a>\u001b[0m \n\u001b[0;32m     <a href='vscode-notebook-cell:/c%3A/Users/tqtraaqs/Desktop/tqtraaqs_git/Experiment/experiment/modules/LLRS/scripts/setup_emccd.ipynb#W0sZmlsZQ%3D%3D?line=16'>17</a>\u001b[0m \u001b[39m# read yaml\u001b[39;00m\n",
      "\u001b[1;31mFileNotFoundError\u001b[0m: [Errno 2] No such file or directory: '\\\\home\\\\tqtraaqs\\\\Experiment\\\\experiment\\\\modules\\\\LLRS\\\\config\\\\andor_static_properties.yml'"
     ]
    }
   ],
   "source": [
    "import yaml\n",
    "import os\n",
    "from pathlib import Path\n",
    "from experiment.instruments.camera.andor_ixonultra888.andor_ixonultra888 import AndoriXonUltra888\n",
    "\n",
    "home = os.path.expanduser(\"~\")\n",
    "\n",
    "# paths to config\n",
    "\n",
    "static_prop_path = str(Path(\"/home/tqtraaqs2/Experiment/experiment/modules/LLRS/config/andor_static_properties.yml\"))\n",
    "acquisition_prop_path = str(Path(\"/home/tqtraaqs2/Experiment/experiment/modules/LLRS/config/andor_acquisition_properties.yml\"))\n",
    "# --- set static properties ---\n",
    "\n",
    "# read yaml\n",
    "with open(static_prop_path, \"r\") as static_prop_file:\n",
    "    static_prop_dict = yaml.safe_load(static_prop_file)\n",
    "\n",
    "# --- set dynamic properties ---\n",
    "\n",
    "# read yaml\n",
    "with open(acquisition_prop_path, \"r\") as acquisition_prop_file:\n",
    "    acquisition_prop_dict = yaml.safe_load(acquisition_prop_file)\n",
    "\n",
    "# open connection\n",
    "camera = AndoriXonUltra888()\n",
    "camera.open_connection()\n",
    "\n",
    "# set properties\n",
    "camera.set_static_properties(static_prop_dict)\n",
    "\n",
    "# set properties\n",
    "camera.set_acquisition_properties(acquisition_prop_dict)\n"
   ]
  },
  {
   "cell_type": "code",
   "execution_count": null,
   "metadata": {},
   "outputs": [],
   "source": [
    "camera.sdk.GetDetector()"
   ]
  },
  {
   "cell_type": "code",
   "execution_count": null,
   "metadata": {},
   "outputs": [],
   "source": [
    "# start acquisition\n",
    "camera.listen_for_hardware_trigger()\n",
    "\n",
    "print(\"EMCCD Setup completed\")"
   ]
  },
  {
   "cell_type": "code",
   "execution_count": null,
   "metadata": {},
   "outputs": [],
   "source": [
    "camera.stop_listening_for_hardware_trigger()"
   ]
  },
  {
   "cell_type": "code",
   "execution_count": null,
   "metadata": {},
   "outputs": [],
   "source": [
    "camera.sdk.GetTotalNumberImagesAcquired()"
   ]
  },
  {
   "cell_type": "code",
   "execution_count": null,
   "metadata": {},
   "outputs": [],
   "source": [
    "camera.close_connection()"
   ]
  }
 ],
 "metadata": {
  "kernelspec": {
   "display_name": "Python 3",
   "language": "python",
   "name": "python3"
  },
  "language_info": {
   "codemirror_mode": {
    "name": "ipython",
    "version": 3
   },
   "file_extension": ".py",
   "mimetype": "text/x-python",
   "name": "python",
   "nbconvert_exporter": "python",
   "pygments_lexer": "ipython3",
   "version": "3.8.17"
  },
  "orig_nbformat": 4
 },
 "nbformat": 4,
 "nbformat_minor": 2
}
