{
 "cells": [
  {
   "cell_type": "code",
   "execution_count": null,
   "metadata": {},
   "outputs": [],
   "source": [
    "import yaml\n",
    "import os\n",
    "from pathlib import Path\n",
    "from modules.camera.andor_ixonultra888.andor_ixonultra888 import AndoriXonUltra888\n",
    "\n",
    "home = os.path.expanduser(\"~\")\n",
    "\n",
    "# paths to config\n",
    "\n",
    "static_prop_path = str(Path(\"../configs/emccd/andor_static_properties.yml\"))\n",
    "acquisition_prop_path = str(Path(\"../configs/emccd/andor_acquisition_properties.yml\"))\n",
    "# --- set static properties ---\n",
    "\n",
    "# read yaml\n",
    "with open(static_prop_path, \"r\") as static_prop_file:\n",
    "    static_prop_dict = yaml.safe_load(static_prop_file)\n",
    "\n",
    "# --- set dynamic properties ---\n",
    "\n",
    "# read yaml\n",
    "with open(acquisition_prop_path, \"r\") as acquisition_prop_file:\n",
    "    acquisition_prop_dict = yaml.safe_load(acquisition_prop_file)\n",
    "\n",
    "# open connection\n",
    "camera = AndoriXonUltra888()\n",
    "camera.open_connection()\n",
    "\n",
    "# set properties\n",
    "camera.set_static_properties(static_prop_dict)\n",
    "\n",
    "# set properties\n",
    "camera.set_acquisition_properties(acquisition_prop_dict)\n"
   ]
  },
  {
   "cell_type": "code",
   "execution_count": null,
   "metadata": {},
   "outputs": [],
   "source": [
    "camera.sdk.GetDetector()"
   ]
  },
  {
   "cell_type": "code",
   "execution_count": null,
   "metadata": {},
   "outputs": [],
   "source": [
    "# start acquisition\n",
    "camera.listen_for_hardware_trigger()\n",
    "\n",
    "print(\"EMCCD Setup completed\")"
   ]
  },
  {
   "cell_type": "code",
   "execution_count": null,
   "metadata": {},
   "outputs": [],
   "source": [
    "camera.stop_listening_for_hardware_trigger()"
   ]
  },
  {
   "cell_type": "code",
   "execution_count": null,
   "metadata": {},
   "outputs": [],
   "source": [
    "camera.sdk.GetTotalNumberImagesAcquired()"
   ]
  },
  {
   "cell_type": "code",
   "execution_count": null,
   "metadata": {},
   "outputs": [],
   "source": [
    "camera.close_connection()"
   ]
  }
 ],
 "metadata": {
  "kernelspec": {
   "display_name": "Python 3",
   "language": "python",
   "name": "python3"
  },
  "language_info": {
   "codemirror_mode": {
    "name": "ipython",
    "version": 3
   },
   "file_extension": ".py",
   "mimetype": "text/x-python",
   "name": "python",
   "nbconvert_exporter": "python",
   "pygments_lexer": "ipython3",
   "version": "3.8.17"
  },
  "orig_nbformat": 4
 },
 "nbformat": 4,
 "nbformat_minor": 2
}
