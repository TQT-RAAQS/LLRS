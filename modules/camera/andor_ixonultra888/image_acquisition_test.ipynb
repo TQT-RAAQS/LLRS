{
 "cells": [
  {
   "cell_type": "code",
   "execution_count": null,
   "source": [
    "from experiment.instruments.camera.basler_ace2.basler_ace2 import BaslerAce2\r\n",
    "from experiment.instruments.camera.andor_ixonultra888.andor_ixonultra888 import AndoriXonUltra888\r\n",
    "from experiment.modules.image_toolkit.image_acquisition import ImageAcquisition\r\n",
    "import time"
   ],
   "outputs": [],
   "metadata": {}
  },
  {
   "cell_type": "code",
   "execution_count": null,
   "source": [
    "ia.get('emccd').import_config_file('static.json', 'static')\r\n",
    "ia.get('emccd').import_config_file('dynamic.json', 'dynamic')\r\n",
    "ia.get('emccd').open_connection()\r\n",
    "ia.get('emccd').acquire_and_save_single_image(filetype='png')\r\n",
    "ia.get('emccd').close_connection()"
   ],
   "outputs": [],
   "metadata": {}
  }
 ],
 "metadata": {
  "orig_nbformat": 4,
  "language_info": {
   "name": "python"
  }
 },
 "nbformat": 4,
 "nbformat_minor": 2
}